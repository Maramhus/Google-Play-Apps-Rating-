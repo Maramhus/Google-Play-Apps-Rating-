{
  "nbformat": 4,
  "nbformat_minor": 5,
  "metadata": {
    "colab": {
      "name": " Final.ipynb",
      "provenance": []
    },
    "kernelspec": {
      "display_name": "Python 3",
      "language": "python",
      "name": "python3"
    },
    "language_info": {
      "codemirror_mode": {
        "name": "ipython",
        "version": 3
      },
      "file_extension": ".py",
      "mimetype": "text/x-python",
      "name": "python",
      "nbconvert_exporter": "python",
      "pygments_lexer": "ipython3",
      "version": "3.8.8"
    }
  },
  "cells": [
    {
      "cell_type": "code",
      "metadata": {
        "id": "e0a175ba"
      },
      "source": [
        "# import library, pandas to read the dataset, matplotlib to visualize data, and re to clean the text \n",
        "\n",
        "import pandas as pd\n",
        "import numpy as np \n",
        "import matplotlib.pyplot as plt\n",
        "import seaborn as sns"
      ],
      "id": "e0a175ba",
      "execution_count": 1,
      "outputs": []
    },
    {
      "cell_type": "code",
      "metadata": {
        "colab": {
          "base_uri": "https://localhost:8080/"
        },
        "id": "9CF-IGzUGwPR",
        "outputId": "c5204061-d14e-4226-f3c6-a356247d3a2c"
      },
      "source": [
        "!unzip /content/archive.zip"
      ],
      "id": "9CF-IGzUGwPR",
      "execution_count": null,
      "outputs": [
        {
          "name": "stdout",
          "output_type": "stream",
          "text": [
            "Archive:  /content/archive.zip\n",
            "  inflating: googleplaystore.csv     \n"
          ]
        }
      ]
    },
    {
      "cell_type": "code",
      "metadata": {
        "colab": {
          "base_uri": "https://localhost:8080/",
          "height": 999
        },
        "id": "1018a211",
        "outputId": "d43577da-42cd-4141-f147-5b3e329c81a6"
      },
      "source": [
        "data = pd.read_csv('googleplaystore.csv')\n",
        "data"
      ],
      "id": "1018a211",
      "execution_count": 3,
      "outputs": [
        {
          "output_type": "execute_result",
          "data": {
            "text/html": [
              "<div>\n",
              "<style scoped>\n",
              "    .dataframe tbody tr th:only-of-type {\n",
              "        vertical-align: middle;\n",
              "    }\n",
              "\n",
              "    .dataframe tbody tr th {\n",
              "        vertical-align: top;\n",
              "    }\n",
              "\n",
              "    .dataframe thead th {\n",
              "        text-align: right;\n",
              "    }\n",
              "</style>\n",
              "<table border=\"1\" class=\"dataframe\">\n",
              "  <thead>\n",
              "    <tr style=\"text-align: right;\">\n",
              "      <th></th>\n",
              "      <th>Rating</th>\n",
              "      <th>App</th>\n",
              "      <th>Category</th>\n",
              "      <th>Reviews</th>\n",
              "      <th>Size</th>\n",
              "      <th>Installs</th>\n",
              "      <th>Type</th>\n",
              "      <th>Price</th>\n",
              "      <th>Content Rating</th>\n",
              "      <th>Genres</th>\n",
              "      <th>Last Updated</th>\n",
              "      <th>Current Ver</th>\n",
              "      <th>Android Ver</th>\n",
              "    </tr>\n",
              "  </thead>\n",
              "  <tbody>\n",
              "    <tr>\n",
              "      <th>0</th>\n",
              "      <td>4.1</td>\n",
              "      <td>Photo Editor &amp; Candy Camera &amp; Grid &amp; ScrapBook</td>\n",
              "      <td>ART_AND_DESIGN</td>\n",
              "      <td>159</td>\n",
              "      <td>19M</td>\n",
              "      <td>10,000+</td>\n",
              "      <td>Free</td>\n",
              "      <td>0</td>\n",
              "      <td>Everyone</td>\n",
              "      <td>Art &amp; Design</td>\n",
              "      <td>07-Jan-18</td>\n",
              "      <td>1.0.0</td>\n",
              "      <td>4.0.3 and up</td>\n",
              "    </tr>\n",
              "    <tr>\n",
              "      <th>1</th>\n",
              "      <td>3.9</td>\n",
              "      <td>Coloring book moana</td>\n",
              "      <td>ART_AND_DESIGN</td>\n",
              "      <td>967</td>\n",
              "      <td>14M</td>\n",
              "      <td>500,000+</td>\n",
              "      <td>Free</td>\n",
              "      <td>0</td>\n",
              "      <td>Everyone</td>\n",
              "      <td>Art &amp; Design;Pretend Play</td>\n",
              "      <td>15-Jan-18</td>\n",
              "      <td>2.0.0</td>\n",
              "      <td>4.0.3 and up</td>\n",
              "    </tr>\n",
              "    <tr>\n",
              "      <th>2</th>\n",
              "      <td>4.7</td>\n",
              "      <td>U Launcher Lite – FREE Live Cool Themes, Hide ...</td>\n",
              "      <td>ART_AND_DESIGN</td>\n",
              "      <td>87510</td>\n",
              "      <td>8.7M</td>\n",
              "      <td>5,000,000+</td>\n",
              "      <td>Free</td>\n",
              "      <td>0</td>\n",
              "      <td>Everyone</td>\n",
              "      <td>Art &amp; Design</td>\n",
              "      <td>01-Aug-18</td>\n",
              "      <td>1.2.4</td>\n",
              "      <td>4.0.3 and up</td>\n",
              "    </tr>\n",
              "    <tr>\n",
              "      <th>3</th>\n",
              "      <td>4.5</td>\n",
              "      <td>Sketch - Draw &amp; Paint</td>\n",
              "      <td>ART_AND_DESIGN</td>\n",
              "      <td>215644</td>\n",
              "      <td>25M</td>\n",
              "      <td>50,000,000+</td>\n",
              "      <td>Free</td>\n",
              "      <td>0</td>\n",
              "      <td>Teen</td>\n",
              "      <td>Art &amp; Design</td>\n",
              "      <td>08-Jun-18</td>\n",
              "      <td>Varies with device</td>\n",
              "      <td>4.2 and up</td>\n",
              "    </tr>\n",
              "    <tr>\n",
              "      <th>4</th>\n",
              "      <td>4.3</td>\n",
              "      <td>Pixel Draw - Number Art Coloring Book</td>\n",
              "      <td>ART_AND_DESIGN</td>\n",
              "      <td>967</td>\n",
              "      <td>2.8M</td>\n",
              "      <td>100,000+</td>\n",
              "      <td>Free</td>\n",
              "      <td>0</td>\n",
              "      <td>Everyone</td>\n",
              "      <td>Art &amp; Design;Creativity</td>\n",
              "      <td>20-Jun-18</td>\n",
              "      <td>1.1</td>\n",
              "      <td>4.4 and up</td>\n",
              "    </tr>\n",
              "    <tr>\n",
              "      <th>...</th>\n",
              "      <td>...</td>\n",
              "      <td>...</td>\n",
              "      <td>...</td>\n",
              "      <td>...</td>\n",
              "      <td>...</td>\n",
              "      <td>...</td>\n",
              "      <td>...</td>\n",
              "      <td>...</td>\n",
              "      <td>...</td>\n",
              "      <td>...</td>\n",
              "      <td>...</td>\n",
              "      <td>...</td>\n",
              "      <td>...</td>\n",
              "    </tr>\n",
              "    <tr>\n",
              "      <th>10835</th>\n",
              "      <td>4.5</td>\n",
              "      <td>Sya9a Maroc - FR</td>\n",
              "      <td>FAMILY</td>\n",
              "      <td>38</td>\n",
              "      <td>53M</td>\n",
              "      <td>5,000+</td>\n",
              "      <td>Free</td>\n",
              "      <td>0</td>\n",
              "      <td>Everyone</td>\n",
              "      <td>Education</td>\n",
              "      <td>25-Jul-17</td>\n",
              "      <td>1.48</td>\n",
              "      <td>4.1 and up</td>\n",
              "    </tr>\n",
              "    <tr>\n",
              "      <th>10836</th>\n",
              "      <td>5.0</td>\n",
              "      <td>Fr. Mike Schmitz Audio Teachings</td>\n",
              "      <td>FAMILY</td>\n",
              "      <td>4</td>\n",
              "      <td>3.6M</td>\n",
              "      <td>100+</td>\n",
              "      <td>Free</td>\n",
              "      <td>0</td>\n",
              "      <td>Everyone</td>\n",
              "      <td>Education</td>\n",
              "      <td>06-Jul-18</td>\n",
              "      <td>1</td>\n",
              "      <td>4.1 and up</td>\n",
              "    </tr>\n",
              "    <tr>\n",
              "      <th>10837</th>\n",
              "      <td>NaN</td>\n",
              "      <td>Parkinson Exercices FR</td>\n",
              "      <td>MEDICAL</td>\n",
              "      <td>3</td>\n",
              "      <td>9.5M</td>\n",
              "      <td>1,000+</td>\n",
              "      <td>Free</td>\n",
              "      <td>0</td>\n",
              "      <td>Everyone</td>\n",
              "      <td>Medical</td>\n",
              "      <td>20-Jan-17</td>\n",
              "      <td>1</td>\n",
              "      <td>2.2 and up</td>\n",
              "    </tr>\n",
              "    <tr>\n",
              "      <th>10838</th>\n",
              "      <td>4.5</td>\n",
              "      <td>The SCP Foundation DB fr nn5n</td>\n",
              "      <td>BOOKS_AND_REFERENCE</td>\n",
              "      <td>114</td>\n",
              "      <td>Varies with device</td>\n",
              "      <td>1,000+</td>\n",
              "      <td>Free</td>\n",
              "      <td>0</td>\n",
              "      <td>Mature 17+</td>\n",
              "      <td>Books &amp; Reference</td>\n",
              "      <td>19-Jan-15</td>\n",
              "      <td>Varies with device</td>\n",
              "      <td>Varies with device</td>\n",
              "    </tr>\n",
              "    <tr>\n",
              "      <th>10839</th>\n",
              "      <td>4.5</td>\n",
              "      <td>iHoroscope - 2018 Daily Horoscope &amp; Astrology</td>\n",
              "      <td>LIFESTYLE</td>\n",
              "      <td>398307</td>\n",
              "      <td>19M</td>\n",
              "      <td>10,000,000+</td>\n",
              "      <td>Free</td>\n",
              "      <td>0</td>\n",
              "      <td>Everyone</td>\n",
              "      <td>Lifestyle</td>\n",
              "      <td>25-Jul-18</td>\n",
              "      <td>Varies with device</td>\n",
              "      <td>Varies with device</td>\n",
              "    </tr>\n",
              "  </tbody>\n",
              "</table>\n",
              "<p>10840 rows × 13 columns</p>\n",
              "</div>"
            ],
            "text/plain": [
              "       Rating  ...         Android Ver\n",
              "0         4.1  ...        4.0.3 and up\n",
              "1         3.9  ...        4.0.3 and up\n",
              "2         4.7  ...        4.0.3 and up\n",
              "3         4.5  ...          4.2 and up\n",
              "4         4.3  ...          4.4 and up\n",
              "...       ...  ...                 ...\n",
              "10835     4.5  ...          4.1 and up\n",
              "10836     5.0  ...          4.1 and up\n",
              "10837     NaN  ...          2.2 and up\n",
              "10838     4.5  ...  Varies with device\n",
              "10839     4.5  ...  Varies with device\n",
              "\n",
              "[10840 rows x 13 columns]"
            ]
          },
          "metadata": {},
          "execution_count": 3
        }
      ]
    },
    {
      "cell_type": "code",
      "metadata": {
        "colab": {
          "base_uri": "https://localhost:8080/",
          "height": 573
        },
        "id": "799c7b30",
        "outputId": "31e96cc9-6a36-4094-d09f-3ac396d5beb7"
      },
      "source": [
        "# show first five dataframe content\n",
        "\n",
        "data.head()"
      ],
      "id": "799c7b30",
      "execution_count": 4,
      "outputs": [
        {
          "output_type": "execute_result",
          "data": {
            "text/html": [
              "<div>\n",
              "<style scoped>\n",
              "    .dataframe tbody tr th:only-of-type {\n",
              "        vertical-align: middle;\n",
              "    }\n",
              "\n",
              "    .dataframe tbody tr th {\n",
              "        vertical-align: top;\n",
              "    }\n",
              "\n",
              "    .dataframe thead th {\n",
              "        text-align: right;\n",
              "    }\n",
              "</style>\n",
              "<table border=\"1\" class=\"dataframe\">\n",
              "  <thead>\n",
              "    <tr style=\"text-align: right;\">\n",
              "      <th></th>\n",
              "      <th>Rating</th>\n",
              "      <th>App</th>\n",
              "      <th>Category</th>\n",
              "      <th>Reviews</th>\n",
              "      <th>Size</th>\n",
              "      <th>Installs</th>\n",
              "      <th>Type</th>\n",
              "      <th>Price</th>\n",
              "      <th>Content Rating</th>\n",
              "      <th>Genres</th>\n",
              "      <th>Last Updated</th>\n",
              "      <th>Current Ver</th>\n",
              "      <th>Android Ver</th>\n",
              "    </tr>\n",
              "  </thead>\n",
              "  <tbody>\n",
              "    <tr>\n",
              "      <th>0</th>\n",
              "      <td>4.1</td>\n",
              "      <td>Photo Editor &amp; Candy Camera &amp; Grid &amp; ScrapBook</td>\n",
              "      <td>ART_AND_DESIGN</td>\n",
              "      <td>159</td>\n",
              "      <td>19M</td>\n",
              "      <td>10,000+</td>\n",
              "      <td>Free</td>\n",
              "      <td>0</td>\n",
              "      <td>Everyone</td>\n",
              "      <td>Art &amp; Design</td>\n",
              "      <td>07-Jan-18</td>\n",
              "      <td>1.0.0</td>\n",
              "      <td>4.0.3 and up</td>\n",
              "    </tr>\n",
              "    <tr>\n",
              "      <th>1</th>\n",
              "      <td>3.9</td>\n",
              "      <td>Coloring book moana</td>\n",
              "      <td>ART_AND_DESIGN</td>\n",
              "      <td>967</td>\n",
              "      <td>14M</td>\n",
              "      <td>500,000+</td>\n",
              "      <td>Free</td>\n",
              "      <td>0</td>\n",
              "      <td>Everyone</td>\n",
              "      <td>Art &amp; Design;Pretend Play</td>\n",
              "      <td>15-Jan-18</td>\n",
              "      <td>2.0.0</td>\n",
              "      <td>4.0.3 and up</td>\n",
              "    </tr>\n",
              "    <tr>\n",
              "      <th>2</th>\n",
              "      <td>4.7</td>\n",
              "      <td>U Launcher Lite – FREE Live Cool Themes, Hide ...</td>\n",
              "      <td>ART_AND_DESIGN</td>\n",
              "      <td>87510</td>\n",
              "      <td>8.7M</td>\n",
              "      <td>5,000,000+</td>\n",
              "      <td>Free</td>\n",
              "      <td>0</td>\n",
              "      <td>Everyone</td>\n",
              "      <td>Art &amp; Design</td>\n",
              "      <td>01-Aug-18</td>\n",
              "      <td>1.2.4</td>\n",
              "      <td>4.0.3 and up</td>\n",
              "    </tr>\n",
              "    <tr>\n",
              "      <th>3</th>\n",
              "      <td>4.5</td>\n",
              "      <td>Sketch - Draw &amp; Paint</td>\n",
              "      <td>ART_AND_DESIGN</td>\n",
              "      <td>215644</td>\n",
              "      <td>25M</td>\n",
              "      <td>50,000,000+</td>\n",
              "      <td>Free</td>\n",
              "      <td>0</td>\n",
              "      <td>Teen</td>\n",
              "      <td>Art &amp; Design</td>\n",
              "      <td>08-Jun-18</td>\n",
              "      <td>Varies with device</td>\n",
              "      <td>4.2 and up</td>\n",
              "    </tr>\n",
              "    <tr>\n",
              "      <th>4</th>\n",
              "      <td>4.3</td>\n",
              "      <td>Pixel Draw - Number Art Coloring Book</td>\n",
              "      <td>ART_AND_DESIGN</td>\n",
              "      <td>967</td>\n",
              "      <td>2.8M</td>\n",
              "      <td>100,000+</td>\n",
              "      <td>Free</td>\n",
              "      <td>0</td>\n",
              "      <td>Everyone</td>\n",
              "      <td>Art &amp; Design;Creativity</td>\n",
              "      <td>20-Jun-18</td>\n",
              "      <td>1.1</td>\n",
              "      <td>4.4 and up</td>\n",
              "    </tr>\n",
              "  </tbody>\n",
              "</table>\n",
              "</div>"
            ],
            "text/plain": [
              "   Rating  ...   Android Ver\n",
              "0     4.1  ...  4.0.3 and up\n",
              "1     3.9  ...  4.0.3 and up\n",
              "2     4.7  ...  4.0.3 and up\n",
              "3     4.5  ...    4.2 and up\n",
              "4     4.3  ...    4.4 and up\n",
              "\n",
              "[5 rows x 13 columns]"
            ]
          },
          "metadata": {},
          "execution_count": 4
        }
      ]
    },
    {
      "cell_type": "markdown",
      "metadata": {
        "id": "74ceb41d"
      },
      "source": [
        "# Filtering the data"
      ],
      "id": "74ceb41d"
    },
    {
      "cell_type": "code",
      "metadata": {
        "id": "dc1a6490"
      },
      "source": [
        "data['Size'] = data.Size.str.replace('M','')"
      ],
      "id": "dc1a6490",
      "execution_count": 5,
      "outputs": []
    },
    {
      "cell_type": "code",
      "metadata": {
        "id": "c2ca5b76"
      },
      "source": [
        "data['Size'] = data.Size.str.replace('Varies with device','0')"
      ],
      "id": "c2ca5b76",
      "execution_count": 6,
      "outputs": []
    },
    {
      "cell_type": "code",
      "metadata": {
        "id": "1a74fd8f"
      },
      "source": [
        "data['Size'] = data.Size.str.replace('k','')"
      ],
      "id": "1a74fd8f",
      "execution_count": 7,
      "outputs": []
    },
    {
      "cell_type": "code",
      "metadata": {
        "id": "f11b2993"
      },
      "source": [
        "data['Size'] = data.Size.str.replace('+','')"
      ],
      "id": "f11b2993",
      "execution_count": 8,
      "outputs": []
    },
    {
      "cell_type": "code",
      "metadata": {
        "id": "a05e1461"
      },
      "source": [
        "data['Size'] = data.Size.str.replace(',','')"
      ],
      "id": "a05e1461",
      "execution_count": 9,
      "outputs": []
    },
    {
      "cell_type": "code",
      "metadata": {
        "id": "39427d0a"
      },
      "source": [
        "#data['Size'].unique()"
      ],
      "id": "39427d0a",
      "execution_count": 10,
      "outputs": []
    },
    {
      "cell_type": "code",
      "metadata": {
        "id": "b50ac9bd"
      },
      "source": [
        "data['Installs'] = data.Installs.str.replace('+','')"
      ],
      "id": "b50ac9bd",
      "execution_count": 11,
      "outputs": []
    },
    {
      "cell_type": "code",
      "metadata": {
        "id": "01bf8546"
      },
      "source": [
        "data['Installs'] = data.Installs.str.replace(',','')"
      ],
      "id": "01bf8546",
      "execution_count": 12,
      "outputs": []
    },
    {
      "cell_type": "code",
      "metadata": {
        "id": "190c4284"
      },
      "source": [
        "data['Installs'] = data.Installs.str.replace('Free','0')"
      ],
      "id": "190c4284",
      "execution_count": 13,
      "outputs": []
    },
    {
      "cell_type": "code",
      "metadata": {
        "id": "6d258c31"
      },
      "source": [
        "#data['Installs'].unique()"
      ],
      "id": "6d258c31",
      "execution_count": 14,
      "outputs": []
    },
    {
      "cell_type": "code",
      "metadata": {
        "id": "96e5c748"
      },
      "source": [
        "data['Price'] = data.Price.str.replace('$','')"
      ],
      "id": "96e5c748",
      "execution_count": 15,
      "outputs": []
    },
    {
      "cell_type": "code",
      "metadata": {
        "id": "adf159f9"
      },
      "source": [
        "data['Price'] = data.Price.str.replace('Everyone','0')"
      ],
      "id": "adf159f9",
      "execution_count": 16,
      "outputs": []
    },
    {
      "cell_type": "code",
      "metadata": {
        "id": "51abcd88"
      },
      "source": [
        "#data['Price'].unique()"
      ],
      "id": "51abcd88",
      "execution_count": 17,
      "outputs": []
    },
    {
      "cell_type": "code",
      "metadata": {
        "id": "42d86543"
      },
      "source": [
        "#data['Reviews'] = data.Reviews.str.replace('M','')"
      ],
      "id": "42d86543",
      "execution_count": 18,
      "outputs": []
    },
    {
      "cell_type": "code",
      "metadata": {
        "id": "b792fe91"
      },
      "source": [
        "#data['Reviews'].unique()"
      ],
      "id": "b792fe91",
      "execution_count": 19,
      "outputs": []
    },
    {
      "cell_type": "code",
      "metadata": {
        "id": "7e114d71"
      },
      "source": [
        "data['Size'] = data['Size'].astype('float')"
      ],
      "id": "7e114d71",
      "execution_count": 20,
      "outputs": []
    },
    {
      "cell_type": "code",
      "metadata": {
        "id": "a1a59c08"
      },
      "source": [
        "data['Installs'] = data['Installs'].astype('float')"
      ],
      "id": "a1a59c08",
      "execution_count": 21,
      "outputs": []
    },
    {
      "cell_type": "code",
      "metadata": {
        "id": "ea957ec3"
      },
      "source": [
        "data['Price'] = data['Price'].astype('float')"
      ],
      "id": "ea957ec3",
      "execution_count": 22,
      "outputs": []
    },
    {
      "cell_type": "code",
      "metadata": {
        "id": "5207d77e"
      },
      "source": [
        "data['Reviews'] = data['Reviews'].astype('float')"
      ],
      "id": "5207d77e",
      "execution_count": 23,
      "outputs": []
    },
    {
      "cell_type": "code",
      "metadata": {
        "colab": {
          "base_uri": "https://localhost:8080/"
        },
        "id": "0f0f0432",
        "outputId": "2ef860ab-46b9-41ec-a9ac-2ee83990e352"
      },
      "source": [
        "# explore the data type at each series\\n\n",
        " \n",
        "data.info()"
      ],
      "id": "0f0f0432",
      "execution_count": 24,
      "outputs": [
        {
          "output_type": "stream",
          "name": "stdout",
          "text": [
            "<class 'pandas.core.frame.DataFrame'>\n",
            "RangeIndex: 10840 entries, 0 to 10839\n",
            "Data columns (total 13 columns):\n",
            " #   Column          Non-Null Count  Dtype  \n",
            "---  ------          --------------  -----  \n",
            " 0   Rating          9366 non-null   float64\n",
            " 1   App             10840 non-null  object \n",
            " 2   Category        10840 non-null  object \n",
            " 3   Reviews         10840 non-null  float64\n",
            " 4   Size            10840 non-null  float64\n",
            " 5   Installs        10840 non-null  float64\n",
            " 6   Type            10839 non-null  object \n",
            " 7   Price           10840 non-null  float64\n",
            " 8   Content Rating  10840 non-null  object \n",
            " 9   Genres          10840 non-null  object \n",
            " 10  Last Updated    10840 non-null  object \n",
            " 11  Current Ver     10832 non-null  object \n",
            " 12  Android Ver     10838 non-null  object \n",
            "dtypes: float64(5), object(8)\n",
            "memory usage: 1.1+ MB\n"
          ]
        }
      ]
    },
    {
      "cell_type": "code",
      "metadata": {
        "id": "545f4a65"
      },
      "source": [
        "from sklearn.preprocessing import LabelEncoder"
      ],
      "id": "545f4a65",
      "execution_count": 25,
      "outputs": []
    },
    {
      "cell_type": "code",
      "metadata": {
        "id": "056e104f"
      },
      "source": [
        "labelencoder = LabelEncoder()\n",
        "\n",
        "data[\"App_N\"] = labelencoder.fit_transform(data[\"App\"])\n",
        "data[\"Category_N\"] = labelencoder.fit_transform(data[\"Category\"])\n",
        "data[\"Type_N\"] = labelencoder.fit_transform(data[\"Type\"])\n",
        "data[\"Content Rating_N\"] = labelencoder.fit_transform(data[\"Content Rating\"])\n"
      ],
      "id": "056e104f",
      "execution_count": 26,
      "outputs": []
    },
    {
      "cell_type": "code",
      "metadata": {
        "id": "d2fa2474"
      },
      "source": [
        "data[\"App\"] = data[\"App\"].astype('category')\n",
        "data[\"Category\"] = data[\"Category\"].astype('category')\n",
        "data[\"Type\"] = data[\"Type\"].astype('category')\n",
        "data[\"Content Rating\"] = data[\"Content Rating\"].astype('category')\n"
      ],
      "id": "d2fa2474",
      "execution_count": 27,
      "outputs": []
    },
    {
      "cell_type": "code",
      "metadata": {
        "id": "68b06856"
      },
      "source": [
        "data[\"App\"] = data[\"App\"].cat.codes\n",
        "data[\"Category\"] = data[\"Category\"].cat.codes\n",
        "data[\"Type\"] = data[\"Type\"].cat.codes\n",
        "data[\"Content Rating\"] = data[\"Content Rating\"].cat.codes"
      ],
      "id": "68b06856",
      "execution_count": 28,
      "outputs": []
    },
    {
      "cell_type": "code",
      "metadata": {
        "colab": {
          "base_uri": "https://localhost:8080/",
          "height": 704
        },
        "id": "47c41af2",
        "scrolled": true,
        "outputId": "dfc94019-d4b0-4ced-9987-eefd41363caa"
      },
      "source": [
        "data"
      ],
      "id": "47c41af2",
      "execution_count": 29,
      "outputs": [
        {
          "output_type": "execute_result",
          "data": {
            "text/html": [
              "<div>\n",
              "<style scoped>\n",
              "    .dataframe tbody tr th:only-of-type {\n",
              "        vertical-align: middle;\n",
              "    }\n",
              "\n",
              "    .dataframe tbody tr th {\n",
              "        vertical-align: top;\n",
              "    }\n",
              "\n",
              "    .dataframe thead th {\n",
              "        text-align: right;\n",
              "    }\n",
              "</style>\n",
              "<table border=\"1\" class=\"dataframe\">\n",
              "  <thead>\n",
              "    <tr style=\"text-align: right;\">\n",
              "      <th></th>\n",
              "      <th>Rating</th>\n",
              "      <th>App</th>\n",
              "      <th>Category</th>\n",
              "      <th>Reviews</th>\n",
              "      <th>Size</th>\n",
              "      <th>Installs</th>\n",
              "      <th>Type</th>\n",
              "      <th>Price</th>\n",
              "      <th>Content Rating</th>\n",
              "      <th>Genres</th>\n",
              "      <th>Last Updated</th>\n",
              "      <th>Current Ver</th>\n",
              "      <th>Android Ver</th>\n",
              "      <th>App_N</th>\n",
              "      <th>Category_N</th>\n",
              "      <th>Type_N</th>\n",
              "      <th>Content Rating_N</th>\n",
              "    </tr>\n",
              "  </thead>\n",
              "  <tbody>\n",
              "    <tr>\n",
              "      <th>0</th>\n",
              "      <td>4.1</td>\n",
              "      <td>6962</td>\n",
              "      <td>0</td>\n",
              "      <td>159.0</td>\n",
              "      <td>19.0</td>\n",
              "      <td>10000.0</td>\n",
              "      <td>0</td>\n",
              "      <td>0.0</td>\n",
              "      <td>1</td>\n",
              "      <td>Art &amp; Design</td>\n",
              "      <td>07-Jan-18</td>\n",
              "      <td>1.0.0</td>\n",
              "      <td>4.0.3 and up</td>\n",
              "      <td>6962</td>\n",
              "      <td>0</td>\n",
              "      <td>0</td>\n",
              "      <td>1</td>\n",
              "    </tr>\n",
              "    <tr>\n",
              "      <th>1</th>\n",
              "      <td>3.9</td>\n",
              "      <td>2632</td>\n",
              "      <td>0</td>\n",
              "      <td>967.0</td>\n",
              "      <td>14.0</td>\n",
              "      <td>500000.0</td>\n",
              "      <td>0</td>\n",
              "      <td>0.0</td>\n",
              "      <td>1</td>\n",
              "      <td>Art &amp; Design;Pretend Play</td>\n",
              "      <td>15-Jan-18</td>\n",
              "      <td>2.0.0</td>\n",
              "      <td>4.0.3 and up</td>\n",
              "      <td>2632</td>\n",
              "      <td>0</td>\n",
              "      <td>0</td>\n",
              "      <td>1</td>\n",
              "    </tr>\n",
              "    <tr>\n",
              "      <th>2</th>\n",
              "      <td>4.7</td>\n",
              "      <td>8656</td>\n",
              "      <td>0</td>\n",
              "      <td>87510.0</td>\n",
              "      <td>8.7</td>\n",
              "      <td>5000000.0</td>\n",
              "      <td>0</td>\n",
              "      <td>0.0</td>\n",
              "      <td>1</td>\n",
              "      <td>Art &amp; Design</td>\n",
              "      <td>01-Aug-18</td>\n",
              "      <td>1.2.4</td>\n",
              "      <td>4.0.3 and up</td>\n",
              "      <td>8656</td>\n",
              "      <td>0</td>\n",
              "      <td>0</td>\n",
              "      <td>1</td>\n",
              "    </tr>\n",
              "    <tr>\n",
              "      <th>3</th>\n",
              "      <td>4.5</td>\n",
              "      <td>7827</td>\n",
              "      <td>0</td>\n",
              "      <td>215644.0</td>\n",
              "      <td>25.0</td>\n",
              "      <td>50000000.0</td>\n",
              "      <td>0</td>\n",
              "      <td>0.0</td>\n",
              "      <td>4</td>\n",
              "      <td>Art &amp; Design</td>\n",
              "      <td>08-Jun-18</td>\n",
              "      <td>Varies with device</td>\n",
              "      <td>4.2 and up</td>\n",
              "      <td>7827</td>\n",
              "      <td>0</td>\n",
              "      <td>0</td>\n",
              "      <td>4</td>\n",
              "    </tr>\n",
              "    <tr>\n",
              "      <th>4</th>\n",
              "      <td>4.3</td>\n",
              "      <td>7022</td>\n",
              "      <td>0</td>\n",
              "      <td>967.0</td>\n",
              "      <td>2.8</td>\n",
              "      <td>100000.0</td>\n",
              "      <td>0</td>\n",
              "      <td>0.0</td>\n",
              "      <td>1</td>\n",
              "      <td>Art &amp; Design;Creativity</td>\n",
              "      <td>20-Jun-18</td>\n",
              "      <td>1.1</td>\n",
              "      <td>4.4 and up</td>\n",
              "      <td>7022</td>\n",
              "      <td>0</td>\n",
              "      <td>0</td>\n",
              "      <td>1</td>\n",
              "    </tr>\n",
              "    <tr>\n",
              "      <th>...</th>\n",
              "      <td>...</td>\n",
              "      <td>...</td>\n",
              "      <td>...</td>\n",
              "      <td>...</td>\n",
              "      <td>...</td>\n",
              "      <td>...</td>\n",
              "      <td>...</td>\n",
              "      <td>...</td>\n",
              "      <td>...</td>\n",
              "      <td>...</td>\n",
              "      <td>...</td>\n",
              "      <td>...</td>\n",
              "      <td>...</td>\n",
              "      <td>...</td>\n",
              "      <td>...</td>\n",
              "      <td>...</td>\n",
              "      <td>...</td>\n",
              "    </tr>\n",
              "    <tr>\n",
              "      <th>10835</th>\n",
              "      <td>4.5</td>\n",
              "      <td>8173</td>\n",
              "      <td>11</td>\n",
              "      <td>38.0</td>\n",
              "      <td>53.0</td>\n",
              "      <td>5000.0</td>\n",
              "      <td>0</td>\n",
              "      <td>0.0</td>\n",
              "      <td>1</td>\n",
              "      <td>Education</td>\n",
              "      <td>25-Jul-17</td>\n",
              "      <td>1.48</td>\n",
              "      <td>4.1 and up</td>\n",
              "      <td>8173</td>\n",
              "      <td>11</td>\n",
              "      <td>0</td>\n",
              "      <td>1</td>\n",
              "    </tr>\n",
              "    <tr>\n",
              "      <th>10836</th>\n",
              "      <td>5.0</td>\n",
              "      <td>4609</td>\n",
              "      <td>11</td>\n",
              "      <td>4.0</td>\n",
              "      <td>3.6</td>\n",
              "      <td>100.0</td>\n",
              "      <td>0</td>\n",
              "      <td>0.0</td>\n",
              "      <td>1</td>\n",
              "      <td>Education</td>\n",
              "      <td>06-Jul-18</td>\n",
              "      <td>1</td>\n",
              "      <td>4.1 and up</td>\n",
              "      <td>4609</td>\n",
              "      <td>11</td>\n",
              "      <td>0</td>\n",
              "      <td>1</td>\n",
              "    </tr>\n",
              "    <tr>\n",
              "      <th>10837</th>\n",
              "      <td>NaN</td>\n",
              "      <td>6891</td>\n",
              "      <td>20</td>\n",
              "      <td>3.0</td>\n",
              "      <td>9.5</td>\n",
              "      <td>1000.0</td>\n",
              "      <td>0</td>\n",
              "      <td>0.0</td>\n",
              "      <td>1</td>\n",
              "      <td>Medical</td>\n",
              "      <td>20-Jan-17</td>\n",
              "      <td>1</td>\n",
              "      <td>2.2 and up</td>\n",
              "      <td>6891</td>\n",
              "      <td>20</td>\n",
              "      <td>0</td>\n",
              "      <td>1</td>\n",
              "    </tr>\n",
              "    <tr>\n",
              "      <th>10838</th>\n",
              "      <td>4.5</td>\n",
              "      <td>8394</td>\n",
              "      <td>3</td>\n",
              "      <td>114.0</td>\n",
              "      <td>0.0</td>\n",
              "      <td>1000.0</td>\n",
              "      <td>0</td>\n",
              "      <td>0.0</td>\n",
              "      <td>3</td>\n",
              "      <td>Books &amp; Reference</td>\n",
              "      <td>19-Jan-15</td>\n",
              "      <td>Varies with device</td>\n",
              "      <td>Varies with device</td>\n",
              "      <td>8394</td>\n",
              "      <td>3</td>\n",
              "      <td>0</td>\n",
              "      <td>3</td>\n",
              "    </tr>\n",
              "    <tr>\n",
              "      <th>10839</th>\n",
              "      <td>4.5</td>\n",
              "      <td>9486</td>\n",
              "      <td>18</td>\n",
              "      <td>398307.0</td>\n",
              "      <td>19.0</td>\n",
              "      <td>10000000.0</td>\n",
              "      <td>0</td>\n",
              "      <td>0.0</td>\n",
              "      <td>1</td>\n",
              "      <td>Lifestyle</td>\n",
              "      <td>25-Jul-18</td>\n",
              "      <td>Varies with device</td>\n",
              "      <td>Varies with device</td>\n",
              "      <td>9486</td>\n",
              "      <td>18</td>\n",
              "      <td>0</td>\n",
              "      <td>1</td>\n",
              "    </tr>\n",
              "  </tbody>\n",
              "</table>\n",
              "<p>10840 rows × 17 columns</p>\n",
              "</div>"
            ],
            "text/plain": [
              "       Rating   App  Category  ...  Category_N  Type_N  Content Rating_N\n",
              "0         4.1  6962         0  ...           0       0                 1\n",
              "1         3.9  2632         0  ...           0       0                 1\n",
              "2         4.7  8656         0  ...           0       0                 1\n",
              "3         4.5  7827         0  ...           0       0                 4\n",
              "4         4.3  7022         0  ...           0       0                 1\n",
              "...       ...   ...       ...  ...         ...     ...               ...\n",
              "10835     4.5  8173        11  ...          11       0                 1\n",
              "10836     5.0  4609        11  ...          11       0                 1\n",
              "10837     NaN  6891        20  ...          20       0                 1\n",
              "10838     4.5  8394         3  ...           3       0                 3\n",
              "10839     4.5  9486        18  ...          18       0                 1\n",
              "\n",
              "[10840 rows x 17 columns]"
            ]
          },
          "metadata": {},
          "execution_count": 29
        }
      ]
    },
    {
      "cell_type": "code",
      "metadata": {
        "colab": {
          "base_uri": "https://localhost:8080/"
        },
        "id": "3ca00543",
        "outputId": "2fb2d69d-0f34-4add-ee91-c6a40c3792f6"
      },
      "source": [
        "data.dtypes"
      ],
      "id": "3ca00543",
      "execution_count": 30,
      "outputs": [
        {
          "output_type": "execute_result",
          "data": {
            "text/plain": [
              "Rating              float64\n",
              "App                   int16\n",
              "Category               int8\n",
              "Reviews             float64\n",
              "Size                float64\n",
              "Installs            float64\n",
              "Type                   int8\n",
              "Price               float64\n",
              "Content Rating         int8\n",
              "Genres               object\n",
              "Last Updated         object\n",
              "Current Ver          object\n",
              "Android Ver          object\n",
              "App_N                 int64\n",
              "Category_N            int64\n",
              "Type_N                int64\n",
              "Content Rating_N      int64\n",
              "dtype: object"
            ]
          },
          "metadata": {},
          "execution_count": 30
        }
      ]
    },
    {
      "cell_type": "code",
      "metadata": {
        "colab": {
          "base_uri": "https://localhost:8080/"
        },
        "id": "5c9977a2",
        "outputId": "f18902ca-88e4-44da-fe16-5ef7c44b171d"
      },
      "source": [
        "# How many rows and columns does the dataset have?\n",
        "\n",
        "data.shape"
      ],
      "id": "5c9977a2",
      "execution_count": 31,
      "outputs": [
        {
          "output_type": "execute_result",
          "data": {
            "text/plain": [
              "(10840, 17)"
            ]
          },
          "metadata": {},
          "execution_count": 31
        }
      ]
    },
    {
      "cell_type": "code",
      "metadata": {
        "colab": {
          "base_uri": "https://localhost:8080/",
          "height": 424
        },
        "id": "89821abe",
        "scrolled": false,
        "outputId": "278efb28-c7a7-4aec-82d0-5a8bd46b5ab9"
      },
      "source": [
        "data = data.drop(columns=['Current Ver','Android Ver','Genres','Last Updated','App_N','Category_N','Type_N','Content Rating_N'])\n",
        "data"
      ],
      "id": "89821abe",
      "execution_count": 32,
      "outputs": [
        {
          "output_type": "execute_result",
          "data": {
            "text/html": [
              "<div>\n",
              "<style scoped>\n",
              "    .dataframe tbody tr th:only-of-type {\n",
              "        vertical-align: middle;\n",
              "    }\n",
              "\n",
              "    .dataframe tbody tr th {\n",
              "        vertical-align: top;\n",
              "    }\n",
              "\n",
              "    .dataframe thead th {\n",
              "        text-align: right;\n",
              "    }\n",
              "</style>\n",
              "<table border=\"1\" class=\"dataframe\">\n",
              "  <thead>\n",
              "    <tr style=\"text-align: right;\">\n",
              "      <th></th>\n",
              "      <th>Rating</th>\n",
              "      <th>App</th>\n",
              "      <th>Category</th>\n",
              "      <th>Reviews</th>\n",
              "      <th>Size</th>\n",
              "      <th>Installs</th>\n",
              "      <th>Type</th>\n",
              "      <th>Price</th>\n",
              "      <th>Content Rating</th>\n",
              "    </tr>\n",
              "  </thead>\n",
              "  <tbody>\n",
              "    <tr>\n",
              "      <th>0</th>\n",
              "      <td>4.1</td>\n",
              "      <td>6962</td>\n",
              "      <td>0</td>\n",
              "      <td>159.0</td>\n",
              "      <td>19.0</td>\n",
              "      <td>10000.0</td>\n",
              "      <td>0</td>\n",
              "      <td>0.0</td>\n",
              "      <td>1</td>\n",
              "    </tr>\n",
              "    <tr>\n",
              "      <th>1</th>\n",
              "      <td>3.9</td>\n",
              "      <td>2632</td>\n",
              "      <td>0</td>\n",
              "      <td>967.0</td>\n",
              "      <td>14.0</td>\n",
              "      <td>500000.0</td>\n",
              "      <td>0</td>\n",
              "      <td>0.0</td>\n",
              "      <td>1</td>\n",
              "    </tr>\n",
              "    <tr>\n",
              "      <th>2</th>\n",
              "      <td>4.7</td>\n",
              "      <td>8656</td>\n",
              "      <td>0</td>\n",
              "      <td>87510.0</td>\n",
              "      <td>8.7</td>\n",
              "      <td>5000000.0</td>\n",
              "      <td>0</td>\n",
              "      <td>0.0</td>\n",
              "      <td>1</td>\n",
              "    </tr>\n",
              "    <tr>\n",
              "      <th>3</th>\n",
              "      <td>4.5</td>\n",
              "      <td>7827</td>\n",
              "      <td>0</td>\n",
              "      <td>215644.0</td>\n",
              "      <td>25.0</td>\n",
              "      <td>50000000.0</td>\n",
              "      <td>0</td>\n",
              "      <td>0.0</td>\n",
              "      <td>4</td>\n",
              "    </tr>\n",
              "    <tr>\n",
              "      <th>4</th>\n",
              "      <td>4.3</td>\n",
              "      <td>7022</td>\n",
              "      <td>0</td>\n",
              "      <td>967.0</td>\n",
              "      <td>2.8</td>\n",
              "      <td>100000.0</td>\n",
              "      <td>0</td>\n",
              "      <td>0.0</td>\n",
              "      <td>1</td>\n",
              "    </tr>\n",
              "    <tr>\n",
              "      <th>...</th>\n",
              "      <td>...</td>\n",
              "      <td>...</td>\n",
              "      <td>...</td>\n",
              "      <td>...</td>\n",
              "      <td>...</td>\n",
              "      <td>...</td>\n",
              "      <td>...</td>\n",
              "      <td>...</td>\n",
              "      <td>...</td>\n",
              "    </tr>\n",
              "    <tr>\n",
              "      <th>10835</th>\n",
              "      <td>4.5</td>\n",
              "      <td>8173</td>\n",
              "      <td>11</td>\n",
              "      <td>38.0</td>\n",
              "      <td>53.0</td>\n",
              "      <td>5000.0</td>\n",
              "      <td>0</td>\n",
              "      <td>0.0</td>\n",
              "      <td>1</td>\n",
              "    </tr>\n",
              "    <tr>\n",
              "      <th>10836</th>\n",
              "      <td>5.0</td>\n",
              "      <td>4609</td>\n",
              "      <td>11</td>\n",
              "      <td>4.0</td>\n",
              "      <td>3.6</td>\n",
              "      <td>100.0</td>\n",
              "      <td>0</td>\n",
              "      <td>0.0</td>\n",
              "      <td>1</td>\n",
              "    </tr>\n",
              "    <tr>\n",
              "      <th>10837</th>\n",
              "      <td>NaN</td>\n",
              "      <td>6891</td>\n",
              "      <td>20</td>\n",
              "      <td>3.0</td>\n",
              "      <td>9.5</td>\n",
              "      <td>1000.0</td>\n",
              "      <td>0</td>\n",
              "      <td>0.0</td>\n",
              "      <td>1</td>\n",
              "    </tr>\n",
              "    <tr>\n",
              "      <th>10838</th>\n",
              "      <td>4.5</td>\n",
              "      <td>8394</td>\n",
              "      <td>3</td>\n",
              "      <td>114.0</td>\n",
              "      <td>0.0</td>\n",
              "      <td>1000.0</td>\n",
              "      <td>0</td>\n",
              "      <td>0.0</td>\n",
              "      <td>3</td>\n",
              "    </tr>\n",
              "    <tr>\n",
              "      <th>10839</th>\n",
              "      <td>4.5</td>\n",
              "      <td>9486</td>\n",
              "      <td>18</td>\n",
              "      <td>398307.0</td>\n",
              "      <td>19.0</td>\n",
              "      <td>10000000.0</td>\n",
              "      <td>0</td>\n",
              "      <td>0.0</td>\n",
              "      <td>1</td>\n",
              "    </tr>\n",
              "  </tbody>\n",
              "</table>\n",
              "<p>10840 rows × 9 columns</p>\n",
              "</div>"
            ],
            "text/plain": [
              "       Rating   App  Category  ...  Type  Price  Content Rating\n",
              "0         4.1  6962         0  ...     0    0.0               1\n",
              "1         3.9  2632         0  ...     0    0.0               1\n",
              "2         4.7  8656         0  ...     0    0.0               1\n",
              "3         4.5  7827         0  ...     0    0.0               4\n",
              "4         4.3  7022         0  ...     0    0.0               1\n",
              "...       ...   ...       ...  ...   ...    ...             ...\n",
              "10835     4.5  8173        11  ...     0    0.0               1\n",
              "10836     5.0  4609        11  ...     0    0.0               1\n",
              "10837     NaN  6891        20  ...     0    0.0               1\n",
              "10838     4.5  8394         3  ...     0    0.0               3\n",
              "10839     4.5  9486        18  ...     0    0.0               1\n",
              "\n",
              "[10840 rows x 9 columns]"
            ]
          },
          "metadata": {},
          "execution_count": 32
        }
      ]
    },
    {
      "cell_type": "code",
      "metadata": {
        "colab": {
          "base_uri": "https://localhost:8080/",
          "height": 49
        },
        "id": "c335f0bd",
        "outputId": "0905a540-be58-4d26-bb67-5cd1a38459ca"
      },
      "source": [
        "# For free apps (type = “Free”), the price should not be >0. Drop any such rows.\n",
        "\n",
        "data[np.logical_and(data['Type'] == 'Free', data['Price'] > 0)]\n"
      ],
      "id": "c335f0bd",
      "execution_count": 33,
      "outputs": [
        {
          "output_type": "execute_result",
          "data": {
            "text/html": [
              "<div>\n",
              "<style scoped>\n",
              "    .dataframe tbody tr th:only-of-type {\n",
              "        vertical-align: middle;\n",
              "    }\n",
              "\n",
              "    .dataframe tbody tr th {\n",
              "        vertical-align: top;\n",
              "    }\n",
              "\n",
              "    .dataframe thead th {\n",
              "        text-align: right;\n",
              "    }\n",
              "</style>\n",
              "<table border=\"1\" class=\"dataframe\">\n",
              "  <thead>\n",
              "    <tr style=\"text-align: right;\">\n",
              "      <th></th>\n",
              "      <th>Rating</th>\n",
              "      <th>App</th>\n",
              "      <th>Category</th>\n",
              "      <th>Reviews</th>\n",
              "      <th>Size</th>\n",
              "      <th>Installs</th>\n",
              "      <th>Type</th>\n",
              "      <th>Price</th>\n",
              "      <th>Content Rating</th>\n",
              "    </tr>\n",
              "  </thead>\n",
              "  <tbody>\n",
              "  </tbody>\n",
              "</table>\n",
              "</div>"
            ],
            "text/plain": [
              "Empty DataFrame\n",
              "Columns: [Rating, App, Category, Reviews, Size, Installs, Type, Price, Content Rating]\n",
              "Index: []"
            ]
          },
          "metadata": {},
          "execution_count": 33
        }
      ]
    },
    {
      "cell_type": "code",
      "metadata": {
        "colab": {
          "base_uri": "https://localhost:8080/",
          "height": 206
        },
        "id": "1c84b468",
        "outputId": "46712551-142d-4ea7-eb90-7d2aa65ff0cc"
      },
      "source": [
        "data.head()"
      ],
      "id": "1c84b468",
      "execution_count": 34,
      "outputs": [
        {
          "output_type": "execute_result",
          "data": {
            "text/html": [
              "<div>\n",
              "<style scoped>\n",
              "    .dataframe tbody tr th:only-of-type {\n",
              "        vertical-align: middle;\n",
              "    }\n",
              "\n",
              "    .dataframe tbody tr th {\n",
              "        vertical-align: top;\n",
              "    }\n",
              "\n",
              "    .dataframe thead th {\n",
              "        text-align: right;\n",
              "    }\n",
              "</style>\n",
              "<table border=\"1\" class=\"dataframe\">\n",
              "  <thead>\n",
              "    <tr style=\"text-align: right;\">\n",
              "      <th></th>\n",
              "      <th>Rating</th>\n",
              "      <th>App</th>\n",
              "      <th>Category</th>\n",
              "      <th>Reviews</th>\n",
              "      <th>Size</th>\n",
              "      <th>Installs</th>\n",
              "      <th>Type</th>\n",
              "      <th>Price</th>\n",
              "      <th>Content Rating</th>\n",
              "    </tr>\n",
              "  </thead>\n",
              "  <tbody>\n",
              "    <tr>\n",
              "      <th>0</th>\n",
              "      <td>4.1</td>\n",
              "      <td>6962</td>\n",
              "      <td>0</td>\n",
              "      <td>159.0</td>\n",
              "      <td>19.0</td>\n",
              "      <td>10000.0</td>\n",
              "      <td>0</td>\n",
              "      <td>0.0</td>\n",
              "      <td>1</td>\n",
              "    </tr>\n",
              "    <tr>\n",
              "      <th>1</th>\n",
              "      <td>3.9</td>\n",
              "      <td>2632</td>\n",
              "      <td>0</td>\n",
              "      <td>967.0</td>\n",
              "      <td>14.0</td>\n",
              "      <td>500000.0</td>\n",
              "      <td>0</td>\n",
              "      <td>0.0</td>\n",
              "      <td>1</td>\n",
              "    </tr>\n",
              "    <tr>\n",
              "      <th>2</th>\n",
              "      <td>4.7</td>\n",
              "      <td>8656</td>\n",
              "      <td>0</td>\n",
              "      <td>87510.0</td>\n",
              "      <td>8.7</td>\n",
              "      <td>5000000.0</td>\n",
              "      <td>0</td>\n",
              "      <td>0.0</td>\n",
              "      <td>1</td>\n",
              "    </tr>\n",
              "    <tr>\n",
              "      <th>3</th>\n",
              "      <td>4.5</td>\n",
              "      <td>7827</td>\n",
              "      <td>0</td>\n",
              "      <td>215644.0</td>\n",
              "      <td>25.0</td>\n",
              "      <td>50000000.0</td>\n",
              "      <td>0</td>\n",
              "      <td>0.0</td>\n",
              "      <td>4</td>\n",
              "    </tr>\n",
              "    <tr>\n",
              "      <th>4</th>\n",
              "      <td>4.3</td>\n",
              "      <td>7022</td>\n",
              "      <td>0</td>\n",
              "      <td>967.0</td>\n",
              "      <td>2.8</td>\n",
              "      <td>100000.0</td>\n",
              "      <td>0</td>\n",
              "      <td>0.0</td>\n",
              "      <td>1</td>\n",
              "    </tr>\n",
              "  </tbody>\n",
              "</table>\n",
              "</div>"
            ],
            "text/plain": [
              "   Rating   App  Category   Reviews  ...    Installs  Type  Price  Content Rating\n",
              "0     4.1  6962         0     159.0  ...     10000.0     0    0.0               1\n",
              "1     3.9  2632         0     967.0  ...    500000.0     0    0.0               1\n",
              "2     4.7  8656         0   87510.0  ...   5000000.0     0    0.0               1\n",
              "3     4.5  7827         0  215644.0  ...  50000000.0     0    0.0               4\n",
              "4     4.3  7022         0     967.0  ...    100000.0     0    0.0               1\n",
              "\n",
              "[5 rows x 9 columns]"
            ]
          },
          "metadata": {},
          "execution_count": 34
        }
      ]
    },
    {
      "cell_type": "code",
      "metadata": {
        "colab": {
          "base_uri": "https://localhost:8080/"
        },
        "id": "3bbdf8a3",
        "outputId": "9ebce05d-75fe-48df-f7e9-12e4d2814066"
      },
      "source": [
        "data.dtypes"
      ],
      "id": "3bbdf8a3",
      "execution_count": 35,
      "outputs": [
        {
          "output_type": "execute_result",
          "data": {
            "text/plain": [
              "Rating            float64\n",
              "App                 int16\n",
              "Category             int8\n",
              "Reviews           float64\n",
              "Size              float64\n",
              "Installs          float64\n",
              "Type                 int8\n",
              "Price             float64\n",
              "Content Rating       int8\n",
              "dtype: object"
            ]
          },
          "metadata": {},
          "execution_count": 35
        }
      ]
    },
    {
      "cell_type": "code",
      "metadata": {
        "colab": {
          "base_uri": "https://localhost:8080/",
          "height": 338
        },
        "id": "bbd70f6c",
        "outputId": "eee45d9e-d446-47d8-807e-c1fe4875efab"
      },
      "source": [
        "data.describe()"
      ],
      "id": "bbd70f6c",
      "execution_count": 36,
      "outputs": [
        {
          "output_type": "execute_result",
          "data": {
            "text/html": [
              "<div>\n",
              "<style scoped>\n",
              "    .dataframe tbody tr th:only-of-type {\n",
              "        vertical-align: middle;\n",
              "    }\n",
              "\n",
              "    .dataframe tbody tr th {\n",
              "        vertical-align: top;\n",
              "    }\n",
              "\n",
              "    .dataframe thead th {\n",
              "        text-align: right;\n",
              "    }\n",
              "</style>\n",
              "<table border=\"1\" class=\"dataframe\">\n",
              "  <thead>\n",
              "    <tr style=\"text-align: right;\">\n",
              "      <th></th>\n",
              "      <th>Rating</th>\n",
              "      <th>App</th>\n",
              "      <th>Category</th>\n",
              "      <th>Reviews</th>\n",
              "      <th>Size</th>\n",
              "      <th>Installs</th>\n",
              "      <th>Type</th>\n",
              "      <th>Price</th>\n",
              "      <th>Content Rating</th>\n",
              "    </tr>\n",
              "  </thead>\n",
              "  <tbody>\n",
              "    <tr>\n",
              "      <th>count</th>\n",
              "      <td>9366.000000</td>\n",
              "      <td>10840.000000</td>\n",
              "      <td>10840.000000</td>\n",
              "      <td>1.084000e+04</td>\n",
              "      <td>10840.000000</td>\n",
              "      <td>1.084000e+04</td>\n",
              "      <td>10840.000000</td>\n",
              "      <td>10840.000000</td>\n",
              "      <td>10840.000000</td>\n",
              "    </tr>\n",
              "    <tr>\n",
              "      <th>mean</th>\n",
              "      <td>4.191757</td>\n",
              "      <td>4900.667989</td>\n",
              "      <td>16.725369</td>\n",
              "      <td>4.441529e+05</td>\n",
              "      <td>31.244382</td>\n",
              "      <td>1.546434e+07</td>\n",
              "      <td>0.073708</td>\n",
              "      <td>1.027368</td>\n",
              "      <td>1.465037</td>\n",
              "    </tr>\n",
              "    <tr>\n",
              "      <th>std</th>\n",
              "      <td>0.515219</td>\n",
              "      <td>2781.525396</td>\n",
              "      <td>8.353310</td>\n",
              "      <td>2.927761e+06</td>\n",
              "      <td>91.805256</td>\n",
              "      <td>8.502936e+07</td>\n",
              "      <td>0.261661</td>\n",
              "      <td>15.949703</td>\n",
              "      <td>1.006151</td>\n",
              "    </tr>\n",
              "    <tr>\n",
              "      <th>min</th>\n",
              "      <td>1.000000</td>\n",
              "      <td>0.000000</td>\n",
              "      <td>0.000000</td>\n",
              "      <td>0.000000e+00</td>\n",
              "      <td>0.000000</td>\n",
              "      <td>0.000000e+00</td>\n",
              "      <td>-1.000000</td>\n",
              "      <td>0.000000</td>\n",
              "      <td>0.000000</td>\n",
              "    </tr>\n",
              "    <tr>\n",
              "      <th>25%</th>\n",
              "      <td>4.000000</td>\n",
              "      <td>2489.750000</td>\n",
              "      <td>11.000000</td>\n",
              "      <td>3.800000e+01</td>\n",
              "      <td>3.100000</td>\n",
              "      <td>1.000000e+03</td>\n",
              "      <td>0.000000</td>\n",
              "      <td>0.000000</td>\n",
              "      <td>1.000000</td>\n",
              "    </tr>\n",
              "    <tr>\n",
              "      <th>50%</th>\n",
              "      <td>4.300000</td>\n",
              "      <td>4944.500000</td>\n",
              "      <td>14.000000</td>\n",
              "      <td>2.094000e+03</td>\n",
              "      <td>10.000000</td>\n",
              "      <td>1.000000e+05</td>\n",
              "      <td>0.000000</td>\n",
              "      <td>0.000000</td>\n",
              "      <td>1.000000</td>\n",
              "    </tr>\n",
              "    <tr>\n",
              "      <th>75%</th>\n",
              "      <td>4.500000</td>\n",
              "      <td>7301.000000</td>\n",
              "      <td>25.000000</td>\n",
              "      <td>5.477550e+04</td>\n",
              "      <td>28.000000</td>\n",
              "      <td>5.000000e+06</td>\n",
              "      <td>0.000000</td>\n",
              "      <td>0.000000</td>\n",
              "      <td>1.000000</td>\n",
              "    </tr>\n",
              "    <tr>\n",
              "      <th>max</th>\n",
              "      <td>5.000000</td>\n",
              "      <td>9658.000000</td>\n",
              "      <td>32.000000</td>\n",
              "      <td>7.815831e+07</td>\n",
              "      <td>1020.000000</td>\n",
              "      <td>1.000000e+09</td>\n",
              "      <td>1.000000</td>\n",
              "      <td>400.000000</td>\n",
              "      <td>5.000000</td>\n",
              "    </tr>\n",
              "  </tbody>\n",
              "</table>\n",
              "</div>"
            ],
            "text/plain": [
              "            Rating           App  ...         Price  Content Rating\n",
              "count  9366.000000  10840.000000  ...  10840.000000    10840.000000\n",
              "mean      4.191757   4900.667989  ...      1.027368        1.465037\n",
              "std       0.515219   2781.525396  ...     15.949703        1.006151\n",
              "min       1.000000      0.000000  ...      0.000000        0.000000\n",
              "25%       4.000000   2489.750000  ...      0.000000        1.000000\n",
              "50%       4.300000   4944.500000  ...      0.000000        1.000000\n",
              "75%       4.500000   7301.000000  ...      0.000000        1.000000\n",
              "max       5.000000   9658.000000  ...    400.000000        5.000000\n",
              "\n",
              "[8 rows x 9 columns]"
            ]
          },
          "metadata": {},
          "execution_count": 36
        }
      ]
    },
    {
      "cell_type": "code",
      "metadata": {
        "colab": {
          "base_uri": "https://localhost:8080/"
        },
        "id": "4030b821",
        "outputId": "f1b3be31-de10-4f0b-d5f1-55d813839e00"
      },
      "source": [
        "data.columns"
      ],
      "id": "4030b821",
      "execution_count": 37,
      "outputs": [
        {
          "output_type": "execute_result",
          "data": {
            "text/plain": [
              "Index(['Rating', 'App', 'Category', 'Reviews', 'Size', 'Installs', 'Type',\n",
              "       'Price', 'Content Rating'],\n",
              "      dtype='object')"
            ]
          },
          "metadata": {},
          "execution_count": 37
        }
      ]
    },
    {
      "cell_type": "code",
      "metadata": {
        "colab": {
          "base_uri": "https://localhost:8080/"
        },
        "id": "77a5c7b4",
        "outputId": "7e3beb6f-4d9d-4e1c-b508-705f6d86c5c5"
      },
      "source": [
        "data.nunique()"
      ],
      "id": "77a5c7b4",
      "execution_count": 38,
      "outputs": [
        {
          "output_type": "execute_result",
          "data": {
            "text/plain": [
              "Rating              39\n",
              "App               9659\n",
              "Category            33\n",
              "Reviews           6001\n",
              "Size               421\n",
              "Installs            20\n",
              "Type                 3\n",
              "Price               92\n",
              "Content Rating       6\n",
              "dtype: int64"
            ]
          },
          "metadata": {},
          "execution_count": 38
        }
      ]
    },
    {
      "cell_type": "code",
      "metadata": {
        "colab": {
          "base_uri": "https://localhost:8080/"
        },
        "id": "2ff95077",
        "outputId": "714d37c4-414c-4f8a-f026-68fc0a78e18e"
      },
      "source": [
        "data['Type'].unique()"
      ],
      "id": "2ff95077",
      "execution_count": 39,
      "outputs": [
        {
          "output_type": "execute_result",
          "data": {
            "text/plain": [
              "array([ 0,  1, -1], dtype=int8)"
            ]
          },
          "metadata": {},
          "execution_count": 39
        }
      ]
    },
    {
      "cell_type": "markdown",
      "metadata": {
        "id": "30961932"
      },
      "source": [
        "# Handling Missings"
      ],
      "id": "30961932"
    },
    {
      "cell_type": "code",
      "metadata": {
        "colab": {
          "base_uri": "https://localhost:8080/",
          "height": 0
        },
        "id": "68cdc131",
        "outputId": "c4d063e7-40e8-4f1d-81db-99f8570d3db2"
      },
      "source": [
        "data.isnull().tail() "
      ],
      "id": "68cdc131",
      "execution_count": 50,
      "outputs": [
        {
          "output_type": "execute_result",
          "data": {
            "text/html": [
              "<div>\n",
              "<style scoped>\n",
              "    .dataframe tbody tr th:only-of-type {\n",
              "        vertical-align: middle;\n",
              "    }\n",
              "\n",
              "    .dataframe tbody tr th {\n",
              "        vertical-align: top;\n",
              "    }\n",
              "\n",
              "    .dataframe thead th {\n",
              "        text-align: right;\n",
              "    }\n",
              "</style>\n",
              "<table border=\"1\" class=\"dataframe\">\n",
              "  <thead>\n",
              "    <tr style=\"text-align: right;\">\n",
              "      <th></th>\n",
              "      <th>Rating</th>\n",
              "      <th>App</th>\n",
              "      <th>Category</th>\n",
              "      <th>Reviews</th>\n",
              "      <th>Size</th>\n",
              "      <th>Installs</th>\n",
              "      <th>Type</th>\n",
              "      <th>Price</th>\n",
              "      <th>Content Rating</th>\n",
              "    </tr>\n",
              "  </thead>\n",
              "  <tbody>\n",
              "    <tr>\n",
              "      <th>10833</th>\n",
              "      <td>False</td>\n",
              "      <td>False</td>\n",
              "      <td>False</td>\n",
              "      <td>False</td>\n",
              "      <td>False</td>\n",
              "      <td>False</td>\n",
              "      <td>False</td>\n",
              "      <td>False</td>\n",
              "      <td>False</td>\n",
              "    </tr>\n",
              "    <tr>\n",
              "      <th>10835</th>\n",
              "      <td>False</td>\n",
              "      <td>False</td>\n",
              "      <td>False</td>\n",
              "      <td>False</td>\n",
              "      <td>False</td>\n",
              "      <td>False</td>\n",
              "      <td>False</td>\n",
              "      <td>False</td>\n",
              "      <td>False</td>\n",
              "    </tr>\n",
              "    <tr>\n",
              "      <th>10836</th>\n",
              "      <td>False</td>\n",
              "      <td>False</td>\n",
              "      <td>False</td>\n",
              "      <td>False</td>\n",
              "      <td>False</td>\n",
              "      <td>False</td>\n",
              "      <td>False</td>\n",
              "      <td>False</td>\n",
              "      <td>False</td>\n",
              "    </tr>\n",
              "    <tr>\n",
              "      <th>10838</th>\n",
              "      <td>False</td>\n",
              "      <td>False</td>\n",
              "      <td>False</td>\n",
              "      <td>False</td>\n",
              "      <td>False</td>\n",
              "      <td>False</td>\n",
              "      <td>False</td>\n",
              "      <td>False</td>\n",
              "      <td>False</td>\n",
              "    </tr>\n",
              "    <tr>\n",
              "      <th>10839</th>\n",
              "      <td>False</td>\n",
              "      <td>False</td>\n",
              "      <td>False</td>\n",
              "      <td>False</td>\n",
              "      <td>False</td>\n",
              "      <td>False</td>\n",
              "      <td>False</td>\n",
              "      <td>False</td>\n",
              "      <td>False</td>\n",
              "    </tr>\n",
              "  </tbody>\n",
              "</table>\n",
              "</div>"
            ],
            "text/plain": [
              "       Rating    App  Category  Reviews  ...  Installs   Type  Price  Content Rating\n",
              "10833   False  False     False    False  ...     False  False  False           False\n",
              "10835   False  False     False    False  ...     False  False  False           False\n",
              "10836   False  False     False    False  ...     False  False  False           False\n",
              "10838   False  False     False    False  ...     False  False  False           False\n",
              "10839   False  False     False    False  ...     False  False  False           False\n",
              "\n",
              "[5 rows x 9 columns]"
            ]
          },
          "metadata": {},
          "execution_count": 50
        }
      ]
    },
    {
      "cell_type": "code",
      "metadata": {
        "colab": {
          "base_uri": "https://localhost:8080/"
        },
        "id": "df30e0d6",
        "outputId": "1b10d6b1-5eaf-4509-c40c-2e274a047050"
      },
      "source": [
        "data.isnull().sum()"
      ],
      "id": "df30e0d6",
      "execution_count": 51,
      "outputs": [
        {
          "output_type": "execute_result",
          "data": {
            "text/plain": [
              "Rating            0\n",
              "App               0\n",
              "Category          0\n",
              "Reviews           0\n",
              "Size              0\n",
              "Installs          0\n",
              "Type              0\n",
              "Price             0\n",
              "Content Rating    0\n",
              "dtype: int64"
            ]
          },
          "metadata": {},
          "execution_count": 51
        }
      ]
    },
    {
      "cell_type": "code",
      "metadata": {
        "colab": {
          "base_uri": "https://localhost:8080/",
          "height": 0
        },
        "id": "0cf54b17",
        "outputId": "d60d6c8e-e746-4aea-8431-608f9e1cf02e"
      },
      "source": [
        "data[data.Rating.isnull()]   "
      ],
      "id": "0cf54b17",
      "execution_count": 52,
      "outputs": [
        {
          "output_type": "execute_result",
          "data": {
            "text/html": [
              "<div>\n",
              "<style scoped>\n",
              "    .dataframe tbody tr th:only-of-type {\n",
              "        vertical-align: middle;\n",
              "    }\n",
              "\n",
              "    .dataframe tbody tr th {\n",
              "        vertical-align: top;\n",
              "    }\n",
              "\n",
              "    .dataframe thead th {\n",
              "        text-align: right;\n",
              "    }\n",
              "</style>\n",
              "<table border=\"1\" class=\"dataframe\">\n",
              "  <thead>\n",
              "    <tr style=\"text-align: right;\">\n",
              "      <th></th>\n",
              "      <th>Rating</th>\n",
              "      <th>App</th>\n",
              "      <th>Category</th>\n",
              "      <th>Reviews</th>\n",
              "      <th>Size</th>\n",
              "      <th>Installs</th>\n",
              "      <th>Type</th>\n",
              "      <th>Price</th>\n",
              "      <th>Content Rating</th>\n",
              "    </tr>\n",
              "  </thead>\n",
              "  <tbody>\n",
              "  </tbody>\n",
              "</table>\n",
              "</div>"
            ],
            "text/plain": [
              "Empty DataFrame\n",
              "Columns: [Rating, App, Category, Reviews, Size, Installs, Type, Price, Content Rating]\n",
              "Index: []"
            ]
          },
          "metadata": {},
          "execution_count": 52
        }
      ]
    },
    {
      "cell_type": "code",
      "metadata": {
        "id": "00cb951e"
      },
      "source": [
        "data.dropna(subset=['Rating'], inplace=True)"
      ],
      "id": "00cb951e",
      "execution_count": 53,
      "outputs": []
    },
    {
      "cell_type": "code",
      "metadata": {
        "colab": {
          "base_uri": "https://localhost:8080/"
        },
        "id": "ab6d8384",
        "outputId": "0e812109-11fa-4203-9b1b-a0c583eaef79"
      },
      "source": [
        "data.shape"
      ],
      "id": "ab6d8384",
      "execution_count": 54,
      "outputs": [
        {
          "output_type": "execute_result",
          "data": {
            "text/plain": [
              "(9366, 9)"
            ]
          },
          "metadata": {},
          "execution_count": 54
        }
      ]
    },
    {
      "cell_type": "code",
      "metadata": {
        "colab": {
          "base_uri": "https://localhost:8080/",
          "height": 0
        },
        "id": "0ca0be7e",
        "outputId": "d7ed1a82-2b6e-4b30-d937-035f3587388d"
      },
      "source": [
        "data.head()"
      ],
      "id": "0ca0be7e",
      "execution_count": 55,
      "outputs": [
        {
          "output_type": "execute_result",
          "data": {
            "text/html": [
              "<div>\n",
              "<style scoped>\n",
              "    .dataframe tbody tr th:only-of-type {\n",
              "        vertical-align: middle;\n",
              "    }\n",
              "\n",
              "    .dataframe tbody tr th {\n",
              "        vertical-align: top;\n",
              "    }\n",
              "\n",
              "    .dataframe thead th {\n",
              "        text-align: right;\n",
              "    }\n",
              "</style>\n",
              "<table border=\"1\" class=\"dataframe\">\n",
              "  <thead>\n",
              "    <tr style=\"text-align: right;\">\n",
              "      <th></th>\n",
              "      <th>Rating</th>\n",
              "      <th>App</th>\n",
              "      <th>Category</th>\n",
              "      <th>Reviews</th>\n",
              "      <th>Size</th>\n",
              "      <th>Installs</th>\n",
              "      <th>Type</th>\n",
              "      <th>Price</th>\n",
              "      <th>Content Rating</th>\n",
              "    </tr>\n",
              "  </thead>\n",
              "  <tbody>\n",
              "    <tr>\n",
              "      <th>0</th>\n",
              "      <td>4.1</td>\n",
              "      <td>6962</td>\n",
              "      <td>0</td>\n",
              "      <td>159.0</td>\n",
              "      <td>19.0</td>\n",
              "      <td>10000.0</td>\n",
              "      <td>0</td>\n",
              "      <td>0.0</td>\n",
              "      <td>1</td>\n",
              "    </tr>\n",
              "    <tr>\n",
              "      <th>1</th>\n",
              "      <td>3.9</td>\n",
              "      <td>2632</td>\n",
              "      <td>0</td>\n",
              "      <td>967.0</td>\n",
              "      <td>14.0</td>\n",
              "      <td>500000.0</td>\n",
              "      <td>0</td>\n",
              "      <td>0.0</td>\n",
              "      <td>1</td>\n",
              "    </tr>\n",
              "    <tr>\n",
              "      <th>2</th>\n",
              "      <td>4.7</td>\n",
              "      <td>8656</td>\n",
              "      <td>0</td>\n",
              "      <td>87510.0</td>\n",
              "      <td>8.7</td>\n",
              "      <td>5000000.0</td>\n",
              "      <td>0</td>\n",
              "      <td>0.0</td>\n",
              "      <td>1</td>\n",
              "    </tr>\n",
              "    <tr>\n",
              "      <th>3</th>\n",
              "      <td>4.5</td>\n",
              "      <td>7827</td>\n",
              "      <td>0</td>\n",
              "      <td>215644.0</td>\n",
              "      <td>25.0</td>\n",
              "      <td>50000000.0</td>\n",
              "      <td>0</td>\n",
              "      <td>0.0</td>\n",
              "      <td>4</td>\n",
              "    </tr>\n",
              "    <tr>\n",
              "      <th>4</th>\n",
              "      <td>4.3</td>\n",
              "      <td>7022</td>\n",
              "      <td>0</td>\n",
              "      <td>967.0</td>\n",
              "      <td>2.8</td>\n",
              "      <td>100000.0</td>\n",
              "      <td>0</td>\n",
              "      <td>0.0</td>\n",
              "      <td>1</td>\n",
              "    </tr>\n",
              "  </tbody>\n",
              "</table>\n",
              "</div>"
            ],
            "text/plain": [
              "   Rating   App  Category   Reviews  ...    Installs  Type  Price  Content Rating\n",
              "0     4.1  6962         0     159.0  ...     10000.0     0    0.0               1\n",
              "1     3.9  2632         0     967.0  ...    500000.0     0    0.0               1\n",
              "2     4.7  8656         0   87510.0  ...   5000000.0     0    0.0               1\n",
              "3     4.5  7827         0  215644.0  ...  50000000.0     0    0.0               4\n",
              "4     4.3  7022         0     967.0  ...    100000.0     0    0.0               1\n",
              "\n",
              "[5 rows x 9 columns]"
            ]
          },
          "metadata": {},
          "execution_count": 55
        }
      ]
    },
    {
      "cell_type": "code",
      "metadata": {
        "colab": {
          "base_uri": "https://localhost:8080/"
        },
        "id": "37a2decd",
        "outputId": "439cc269-301b-428c-b9f9-4e56828bd306"
      },
      "source": [
        "y = data['Rating']\n",
        "y"
      ],
      "id": "37a2decd",
      "execution_count": 56,
      "outputs": [
        {
          "output_type": "execute_result",
          "data": {
            "text/plain": [
              "0        4.1\n",
              "1        3.9\n",
              "2        4.7\n",
              "3        4.5\n",
              "4        4.3\n",
              "        ... \n",
              "10833    4.0\n",
              "10835    4.5\n",
              "10836    5.0\n",
              "10838    4.5\n",
              "10839    4.5\n",
              "Name: Rating, Length: 9366, dtype: float64"
            ]
          },
          "metadata": {},
          "execution_count": 56
        }
      ]
    },
    {
      "cell_type": "code",
      "metadata": {
        "id": "02252b25"
      },
      "source": [
        "#data = data.drop(columns=['Rating'])\n",
        "#data"
      ],
      "id": "02252b25",
      "execution_count": 57,
      "outputs": []
    },
    {
      "cell_type": "code",
      "metadata": {
        "colab": {
          "base_uri": "https://localhost:8080/",
          "height": 0
        },
        "id": "40da11f8",
        "outputId": "aece976d-716c-417a-cf68-f8c7d812f47d"
      },
      "source": [
        "X = data.loc[:,'App':'Content Rating']\n",
        "X"
      ],
      "id": "40da11f8",
      "execution_count": 58,
      "outputs": [
        {
          "output_type": "execute_result",
          "data": {
            "text/html": [
              "<div>\n",
              "<style scoped>\n",
              "    .dataframe tbody tr th:only-of-type {\n",
              "        vertical-align: middle;\n",
              "    }\n",
              "\n",
              "    .dataframe tbody tr th {\n",
              "        vertical-align: top;\n",
              "    }\n",
              "\n",
              "    .dataframe thead th {\n",
              "        text-align: right;\n",
              "    }\n",
              "</style>\n",
              "<table border=\"1\" class=\"dataframe\">\n",
              "  <thead>\n",
              "    <tr style=\"text-align: right;\">\n",
              "      <th></th>\n",
              "      <th>App</th>\n",
              "      <th>Category</th>\n",
              "      <th>Reviews</th>\n",
              "      <th>Size</th>\n",
              "      <th>Installs</th>\n",
              "      <th>Type</th>\n",
              "      <th>Price</th>\n",
              "      <th>Content Rating</th>\n",
              "    </tr>\n",
              "  </thead>\n",
              "  <tbody>\n",
              "    <tr>\n",
              "      <th>0</th>\n",
              "      <td>6962</td>\n",
              "      <td>0</td>\n",
              "      <td>159.0</td>\n",
              "      <td>19.0</td>\n",
              "      <td>10000.0</td>\n",
              "      <td>0</td>\n",
              "      <td>0.0</td>\n",
              "      <td>1</td>\n",
              "    </tr>\n",
              "    <tr>\n",
              "      <th>1</th>\n",
              "      <td>2632</td>\n",
              "      <td>0</td>\n",
              "      <td>967.0</td>\n",
              "      <td>14.0</td>\n",
              "      <td>500000.0</td>\n",
              "      <td>0</td>\n",
              "      <td>0.0</td>\n",
              "      <td>1</td>\n",
              "    </tr>\n",
              "    <tr>\n",
              "      <th>2</th>\n",
              "      <td>8656</td>\n",
              "      <td>0</td>\n",
              "      <td>87510.0</td>\n",
              "      <td>8.7</td>\n",
              "      <td>5000000.0</td>\n",
              "      <td>0</td>\n",
              "      <td>0.0</td>\n",
              "      <td>1</td>\n",
              "    </tr>\n",
              "    <tr>\n",
              "      <th>3</th>\n",
              "      <td>7827</td>\n",
              "      <td>0</td>\n",
              "      <td>215644.0</td>\n",
              "      <td>25.0</td>\n",
              "      <td>50000000.0</td>\n",
              "      <td>0</td>\n",
              "      <td>0.0</td>\n",
              "      <td>4</td>\n",
              "    </tr>\n",
              "    <tr>\n",
              "      <th>4</th>\n",
              "      <td>7022</td>\n",
              "      <td>0</td>\n",
              "      <td>967.0</td>\n",
              "      <td>2.8</td>\n",
              "      <td>100000.0</td>\n",
              "      <td>0</td>\n",
              "      <td>0.0</td>\n",
              "      <td>1</td>\n",
              "    </tr>\n",
              "    <tr>\n",
              "      <th>...</th>\n",
              "      <td>...</td>\n",
              "      <td>...</td>\n",
              "      <td>...</td>\n",
              "      <td>...</td>\n",
              "      <td>...</td>\n",
              "      <td>...</td>\n",
              "      <td>...</td>\n",
              "      <td>...</td>\n",
              "    </tr>\n",
              "    <tr>\n",
              "      <th>10833</th>\n",
              "      <td>4303</td>\n",
              "      <td>11</td>\n",
              "      <td>7.0</td>\n",
              "      <td>2.6</td>\n",
              "      <td>500.0</td>\n",
              "      <td>0</td>\n",
              "      <td>0.0</td>\n",
              "      <td>1</td>\n",
              "    </tr>\n",
              "    <tr>\n",
              "      <th>10835</th>\n",
              "      <td>8173</td>\n",
              "      <td>11</td>\n",
              "      <td>38.0</td>\n",
              "      <td>53.0</td>\n",
              "      <td>5000.0</td>\n",
              "      <td>0</td>\n",
              "      <td>0.0</td>\n",
              "      <td>1</td>\n",
              "    </tr>\n",
              "    <tr>\n",
              "      <th>10836</th>\n",
              "      <td>4609</td>\n",
              "      <td>11</td>\n",
              "      <td>4.0</td>\n",
              "      <td>3.6</td>\n",
              "      <td>100.0</td>\n",
              "      <td>0</td>\n",
              "      <td>0.0</td>\n",
              "      <td>1</td>\n",
              "    </tr>\n",
              "    <tr>\n",
              "      <th>10838</th>\n",
              "      <td>8394</td>\n",
              "      <td>3</td>\n",
              "      <td>114.0</td>\n",
              "      <td>0.0</td>\n",
              "      <td>1000.0</td>\n",
              "      <td>0</td>\n",
              "      <td>0.0</td>\n",
              "      <td>3</td>\n",
              "    </tr>\n",
              "    <tr>\n",
              "      <th>10839</th>\n",
              "      <td>9486</td>\n",
              "      <td>18</td>\n",
              "      <td>398307.0</td>\n",
              "      <td>19.0</td>\n",
              "      <td>10000000.0</td>\n",
              "      <td>0</td>\n",
              "      <td>0.0</td>\n",
              "      <td>1</td>\n",
              "    </tr>\n",
              "  </tbody>\n",
              "</table>\n",
              "<p>9366 rows × 8 columns</p>\n",
              "</div>"
            ],
            "text/plain": [
              "        App  Category   Reviews  Size    Installs  Type  Price  Content Rating\n",
              "0      6962         0     159.0  19.0     10000.0     0    0.0               1\n",
              "1      2632         0     967.0  14.0    500000.0     0    0.0               1\n",
              "2      8656         0   87510.0   8.7   5000000.0     0    0.0               1\n",
              "3      7827         0  215644.0  25.0  50000000.0     0    0.0               4\n",
              "4      7022         0     967.0   2.8    100000.0     0    0.0               1\n",
              "...     ...       ...       ...   ...         ...   ...    ...             ...\n",
              "10833  4303        11       7.0   2.6       500.0     0    0.0               1\n",
              "10835  8173        11      38.0  53.0      5000.0     0    0.0               1\n",
              "10836  4609        11       4.0   3.6       100.0     0    0.0               1\n",
              "10838  8394         3     114.0   0.0      1000.0     0    0.0               3\n",
              "10839  9486        18  398307.0  19.0  10000000.0     0    0.0               1\n",
              "\n",
              "[9366 rows x 8 columns]"
            ]
          },
          "metadata": {},
          "execution_count": 58
        }
      ]
    },
    {
      "cell_type": "code",
      "metadata": {
        "colab": {
          "base_uri": "https://localhost:8080/",
          "height": 0
        },
        "id": "dWIiIxuh6nev",
        "outputId": "147d8261-7207-4b46-ffd2-511a3caff57c"
      },
      "source": [
        "data"
      ],
      "id": "dWIiIxuh6nev",
      "execution_count": 59,
      "outputs": [
        {
          "output_type": "execute_result",
          "data": {
            "text/html": [
              "<div>\n",
              "<style scoped>\n",
              "    .dataframe tbody tr th:only-of-type {\n",
              "        vertical-align: middle;\n",
              "    }\n",
              "\n",
              "    .dataframe tbody tr th {\n",
              "        vertical-align: top;\n",
              "    }\n",
              "\n",
              "    .dataframe thead th {\n",
              "        text-align: right;\n",
              "    }\n",
              "</style>\n",
              "<table border=\"1\" class=\"dataframe\">\n",
              "  <thead>\n",
              "    <tr style=\"text-align: right;\">\n",
              "      <th></th>\n",
              "      <th>Rating</th>\n",
              "      <th>App</th>\n",
              "      <th>Category</th>\n",
              "      <th>Reviews</th>\n",
              "      <th>Size</th>\n",
              "      <th>Installs</th>\n",
              "      <th>Type</th>\n",
              "      <th>Price</th>\n",
              "      <th>Content Rating</th>\n",
              "    </tr>\n",
              "  </thead>\n",
              "  <tbody>\n",
              "    <tr>\n",
              "      <th>0</th>\n",
              "      <td>4.1</td>\n",
              "      <td>6962</td>\n",
              "      <td>0</td>\n",
              "      <td>159.0</td>\n",
              "      <td>19.0</td>\n",
              "      <td>10000.0</td>\n",
              "      <td>0</td>\n",
              "      <td>0.0</td>\n",
              "      <td>1</td>\n",
              "    </tr>\n",
              "    <tr>\n",
              "      <th>1</th>\n",
              "      <td>3.9</td>\n",
              "      <td>2632</td>\n",
              "      <td>0</td>\n",
              "      <td>967.0</td>\n",
              "      <td>14.0</td>\n",
              "      <td>500000.0</td>\n",
              "      <td>0</td>\n",
              "      <td>0.0</td>\n",
              "      <td>1</td>\n",
              "    </tr>\n",
              "    <tr>\n",
              "      <th>2</th>\n",
              "      <td>4.7</td>\n",
              "      <td>8656</td>\n",
              "      <td>0</td>\n",
              "      <td>87510.0</td>\n",
              "      <td>8.7</td>\n",
              "      <td>5000000.0</td>\n",
              "      <td>0</td>\n",
              "      <td>0.0</td>\n",
              "      <td>1</td>\n",
              "    </tr>\n",
              "    <tr>\n",
              "      <th>3</th>\n",
              "      <td>4.5</td>\n",
              "      <td>7827</td>\n",
              "      <td>0</td>\n",
              "      <td>215644.0</td>\n",
              "      <td>25.0</td>\n",
              "      <td>50000000.0</td>\n",
              "      <td>0</td>\n",
              "      <td>0.0</td>\n",
              "      <td>4</td>\n",
              "    </tr>\n",
              "    <tr>\n",
              "      <th>4</th>\n",
              "      <td>4.3</td>\n",
              "      <td>7022</td>\n",
              "      <td>0</td>\n",
              "      <td>967.0</td>\n",
              "      <td>2.8</td>\n",
              "      <td>100000.0</td>\n",
              "      <td>0</td>\n",
              "      <td>0.0</td>\n",
              "      <td>1</td>\n",
              "    </tr>\n",
              "    <tr>\n",
              "      <th>...</th>\n",
              "      <td>...</td>\n",
              "      <td>...</td>\n",
              "      <td>...</td>\n",
              "      <td>...</td>\n",
              "      <td>...</td>\n",
              "      <td>...</td>\n",
              "      <td>...</td>\n",
              "      <td>...</td>\n",
              "      <td>...</td>\n",
              "    </tr>\n",
              "    <tr>\n",
              "      <th>10833</th>\n",
              "      <td>4.0</td>\n",
              "      <td>4303</td>\n",
              "      <td>11</td>\n",
              "      <td>7.0</td>\n",
              "      <td>2.6</td>\n",
              "      <td>500.0</td>\n",
              "      <td>0</td>\n",
              "      <td>0.0</td>\n",
              "      <td>1</td>\n",
              "    </tr>\n",
              "    <tr>\n",
              "      <th>10835</th>\n",
              "      <td>4.5</td>\n",
              "      <td>8173</td>\n",
              "      <td>11</td>\n",
              "      <td>38.0</td>\n",
              "      <td>53.0</td>\n",
              "      <td>5000.0</td>\n",
              "      <td>0</td>\n",
              "      <td>0.0</td>\n",
              "      <td>1</td>\n",
              "    </tr>\n",
              "    <tr>\n",
              "      <th>10836</th>\n",
              "      <td>5.0</td>\n",
              "      <td>4609</td>\n",
              "      <td>11</td>\n",
              "      <td>4.0</td>\n",
              "      <td>3.6</td>\n",
              "      <td>100.0</td>\n",
              "      <td>0</td>\n",
              "      <td>0.0</td>\n",
              "      <td>1</td>\n",
              "    </tr>\n",
              "    <tr>\n",
              "      <th>10838</th>\n",
              "      <td>4.5</td>\n",
              "      <td>8394</td>\n",
              "      <td>3</td>\n",
              "      <td>114.0</td>\n",
              "      <td>0.0</td>\n",
              "      <td>1000.0</td>\n",
              "      <td>0</td>\n",
              "      <td>0.0</td>\n",
              "      <td>3</td>\n",
              "    </tr>\n",
              "    <tr>\n",
              "      <th>10839</th>\n",
              "      <td>4.5</td>\n",
              "      <td>9486</td>\n",
              "      <td>18</td>\n",
              "      <td>398307.0</td>\n",
              "      <td>19.0</td>\n",
              "      <td>10000000.0</td>\n",
              "      <td>0</td>\n",
              "      <td>0.0</td>\n",
              "      <td>1</td>\n",
              "    </tr>\n",
              "  </tbody>\n",
              "</table>\n",
              "<p>9366 rows × 9 columns</p>\n",
              "</div>"
            ],
            "text/plain": [
              "       Rating   App  Category  ...  Type  Price  Content Rating\n",
              "0         4.1  6962         0  ...     0    0.0               1\n",
              "1         3.9  2632         0  ...     0    0.0               1\n",
              "2         4.7  8656         0  ...     0    0.0               1\n",
              "3         4.5  7827         0  ...     0    0.0               4\n",
              "4         4.3  7022         0  ...     0    0.0               1\n",
              "...       ...   ...       ...  ...   ...    ...             ...\n",
              "10833     4.0  4303        11  ...     0    0.0               1\n",
              "10835     4.5  8173        11  ...     0    0.0               1\n",
              "10836     5.0  4609        11  ...     0    0.0               1\n",
              "10838     4.5  8394         3  ...     0    0.0               3\n",
              "10839     4.5  9486        18  ...     0    0.0               1\n",
              "\n",
              "[9366 rows x 9 columns]"
            ]
          },
          "metadata": {},
          "execution_count": 59
        }
      ]
    },
    {
      "cell_type": "markdown",
      "metadata": {
        "id": "af1a98b3"
      },
      "source": [
        "# The Visualizing \n",
        "\n"
      ],
      "id": "af1a98b3"
    },
    {
      "cell_type": "code",
      "metadata": {
        "colab": {
          "base_uri": "https://localhost:8080/",
          "height": 0
        },
        "id": "1eb7dd54",
        "outputId": "d0d899e7-65cc-4933-8512-f7e8ef1c690e"
      },
      "source": [
        "# Boxplot for Price\n",
        "\n",
        "sns.catplot(y='Price', data=data, kind='box')"
      ],
      "id": "1eb7dd54",
      "execution_count": 60,
      "outputs": [
        {
          "output_type": "execute_result",
          "data": {
            "text/plain": [
              "<seaborn.axisgrid.FacetGrid at 0x7f29c9dd6310>"
            ]
          },
          "metadata": {},
          "execution_count": 60
        },
        {
          "output_type": "display_data",
          "data": {
            "image/png": "[encoded data removed]",
            "text/plain": [
              "<Figure size 360x360 with 1 Axes>"
            ]
          },
          "metadata": {
            "needs_background": "light"
          }
        }
      ]
    },
    {
      "cell_type": "code",
      "metadata": {
        "colab": {
          "base_uri": "https://localhost:8080/",
          "height": 0
        },
        "id": "af4ad202",
        "outputId": "87808765-d991-4197-8562-da2abfb4758e"
      },
      "source": [
        "# Boxplot for Reviews\n",
        "\n",
        "sns.catplot(y='Reviews', data=data, kind='box')"
      ],
      "id": "af4ad202",
      "execution_count": 61,
      "outputs": [
        {
          "output_type": "execute_result",
          "data": {
            "text/plain": [
              "<seaborn.axisgrid.FacetGrid at 0x7f29c14f7c90>"
            ]
          },
          "metadata": {},
          "execution_count": 61
        },
        {
          "output_type": "display_data",
          "data": {
            "image/png": "[encoded data removed]",
            "text/plain": [
              "<Figure size 360x360 with 1 Axes>"
            ]
          },
          "metadata": {
            "needs_background": "light"
          }
        }
      ]
    },
    {
      "cell_type": "code",
      "metadata": {
        "colab": {
          "base_uri": "https://localhost:8080/",
          "height": 0
        },
        "id": "6a63d1a9",
        "outputId": "719e0485-8667-4434-fd6a-a227ad7595b9"
      },
      "source": [
        "# Histogram for Rating\n",
        "sns.distplot(a=data['App'], kde=False)\n"
      ],
      "id": "6a63d1a9",
      "execution_count": 62,
      "outputs": [
        {
          "output_type": "stream",
          "name": "stderr",
          "text": [
            "/usr/local/lib/python3.7/dist-packages/seaborn/distributions.py:2619: FutureWarning: `distplot` is a deprecated function and will be removed in a future version. Please adapt your code to use either `displot` (a figure-level function with similar flexibility) or `histplot` (an axes-level function for histograms).\n",
            "  warnings.warn(msg, FutureWarning)\n"
          ]
        },
        {
          "output_type": "execute_result",
          "data": {
            "text/plain": [
              "<matplotlib.axes._subplots.AxesSubplot at 0x7f29c0ff1cd0>"
            ]
          },
          "metadata": {},
          "execution_count": 62
        },
        {
          "output_type": "display_data",
          "data": {
            "image/png": "[encoded data removed]",
            "text/plain": [
              "<Figure size 432x288 with 1 Axes>"
            ]
          },
          "metadata": {
            "needs_background": "light"
          }
        }
      ]
    },
    {
      "cell_type": "code",
      "metadata": {
        "colab": {
          "base_uri": "https://localhost:8080/",
          "height": 0
        },
        "id": "9f0e443d",
        "outputId": "e88cea2f-2758-4901-e92c-ccc3ea2a01e0"
      },
      "source": [
        "# Histogram for Size\n",
        "\n",
        "sns.distplot(a=data['Size'], kde=False)"
      ],
      "id": "9f0e443d",
      "execution_count": 63,
      "outputs": [
        {
          "output_type": "stream",
          "name": "stderr",
          "text": [
            "/usr/local/lib/python3.7/dist-packages/seaborn/distributions.py:2619: FutureWarning: `distplot` is a deprecated function and will be removed in a future version. Please adapt your code to use either `displot` (a figure-level function with similar flexibility) or `histplot` (an axes-level function for histograms).\n",
            "  warnings.warn(msg, FutureWarning)\n"
          ]
        },
        {
          "output_type": "execute_result",
          "data": {
            "text/plain": [
              "<matplotlib.axes._subplots.AxesSubplot at 0x7f29c0fa8610>"
            ]
          },
          "metadata": {},
          "execution_count": 63
        },
        {
          "output_type": "display_data",
          "data": {
            "image/png": "[encoded data removed]",
            "text/plain": [
              "<Figure size 432x288 with 1 Axes>"
            ]
          },
          "metadata": {
            "needs_background": "light"
          }
        }
      ]
    },
    {
      "cell_type": "code",
      "metadata": {
        "colab": {
          "base_uri": "https://localhost:8080/",
          "height": 0
        },
        "id": "08914e68",
        "outputId": "068aa4c2-09ae-40c1-a7b9-e61c51ece481"
      },
      "source": [
        "# Category vs. App\n",
        "\n",
        "sns.catplot(x='Category', y='App', data=data, kind='box')\n"
      ],
      "id": "08914e68",
      "execution_count": 64,
      "outputs": [
        {
          "output_type": "execute_result",
          "data": {
            "text/plain": [
              "<seaborn.axisgrid.FacetGrid at 0x7f29c0ed2350>"
            ]
          },
          "metadata": {},
          "execution_count": 64
        },
        {
          "output_type": "display_data",
          "data": {
            "image/png": "[encoded data removed]",
            "text/plain": [
              "<Figure size 360x360 with 1 Axes>"
            ]
          },
          "metadata": {
            "needs_background": "light"
          }
        }
      ]
    },
    {
      "cell_type": "code",
      "metadata": {
        "colab": {
          "base_uri": "https://localhost:8080/",
          "height": 0
        },
        "id": "eec414c6",
        "scrolled": false,
        "outputId": "c793f9df-826d-4df6-b476-b7896e3f9cda"
      },
      "source": [
        "# View the correlations\n",
        "\n",
        "data.corr()"
      ],
      "id": "eec414c6",
      "execution_count": 65,
      "outputs": [
        {
          "output_type": "execute_result",
          "data": {
            "text/html": [
              "<div>\n",
              "<style scoped>\n",
              "    .dataframe tbody tr th:only-of-type {\n",
              "        vertical-align: middle;\n",
              "    }\n",
              "\n",
              "    .dataframe tbody tr th {\n",
              "        vertical-align: top;\n",
              "    }\n",
              "\n",
              "    .dataframe thead th {\n",
              "        text-align: right;\n",
              "    }\n",
              "</style>\n",
              "<table border=\"1\" class=\"dataframe\">\n",
              "  <thead>\n",
              "    <tr style=\"text-align: right;\">\n",
              "      <th></th>\n",
              "      <th>Rating</th>\n",
              "      <th>App</th>\n",
              "      <th>Category</th>\n",
              "      <th>Reviews</th>\n",
              "      <th>Size</th>\n",
              "      <th>Installs</th>\n",
              "      <th>Type</th>\n",
              "      <th>Price</th>\n",
              "      <th>Content Rating</th>\n",
              "    </tr>\n",
              "  </thead>\n",
              "  <tbody>\n",
              "    <tr>\n",
              "      <th>Rating</th>\n",
              "      <td>1.000000</td>\n",
              "      <td>0.037271</td>\n",
              "      <td>-0.034603</td>\n",
              "      <td>0.068141</td>\n",
              "      <td>-0.030264</td>\n",
              "      <td>0.051355</td>\n",
              "      <td>0.039581</td>\n",
              "      <td>-0.021903</td>\n",
              "      <td>0.019868</td>\n",
              "    </tr>\n",
              "    <tr>\n",
              "      <th>App</th>\n",
              "      <td>0.037271</td>\n",
              "      <td>1.000000</td>\n",
              "      <td>0.014334</td>\n",
              "      <td>0.031587</td>\n",
              "      <td>-0.024321</td>\n",
              "      <td>0.054028</td>\n",
              "      <td>0.008817</td>\n",
              "      <td>0.012664</td>\n",
              "      <td>0.038950</td>\n",
              "    </tr>\n",
              "    <tr>\n",
              "      <th>Category</th>\n",
              "      <td>-0.034603</td>\n",
              "      <td>0.014334</td>\n",
              "      <td>1.000000</td>\n",
              "      <td>0.000883</td>\n",
              "      <td>-0.001964</td>\n",
              "      <td>0.022763</td>\n",
              "      <td>0.023227</td>\n",
              "      <td>-0.012913</td>\n",
              "      <td>-0.105896</td>\n",
              "    </tr>\n",
              "    <tr>\n",
              "      <th>Reviews</th>\n",
              "      <td>0.068141</td>\n",
              "      <td>0.031587</td>\n",
              "      <td>0.000883</td>\n",
              "      <td>1.000000</td>\n",
              "      <td>-0.005510</td>\n",
              "      <td>0.641612</td>\n",
              "      <td>-0.043290</td>\n",
              "      <td>-0.009820</td>\n",
              "      <td>0.070528</td>\n",
              "    </tr>\n",
              "    <tr>\n",
              "      <th>Size</th>\n",
              "      <td>-0.030264</td>\n",
              "      <td>-0.024321</td>\n",
              "      <td>-0.001964</td>\n",
              "      <td>-0.005510</td>\n",
              "      <td>1.000000</td>\n",
              "      <td>-0.028971</td>\n",
              "      <td>0.053348</td>\n",
              "      <td>0.021993</td>\n",
              "      <td>-0.013337</td>\n",
              "    </tr>\n",
              "    <tr>\n",
              "      <th>Installs</th>\n",
              "      <td>0.051355</td>\n",
              "      <td>0.054028</td>\n",
              "      <td>0.022763</td>\n",
              "      <td>0.641612</td>\n",
              "      <td>-0.028971</td>\n",
              "      <td>1.000000</td>\n",
              "      <td>-0.053102</td>\n",
              "      <td>-0.011890</td>\n",
              "      <td>0.053359</td>\n",
              "    </tr>\n",
              "    <tr>\n",
              "      <th>Type</th>\n",
              "      <td>0.039581</td>\n",
              "      <td>0.008817</td>\n",
              "      <td>0.023227</td>\n",
              "      <td>-0.043290</td>\n",
              "      <td>0.053348</td>\n",
              "      <td>-0.053102</td>\n",
              "      <td>1.000000</td>\n",
              "      <td>0.223040</td>\n",
              "      <td>-0.046892</td>\n",
              "    </tr>\n",
              "    <tr>\n",
              "      <th>Price</th>\n",
              "      <td>-0.021903</td>\n",
              "      <td>0.012664</td>\n",
              "      <td>-0.012913</td>\n",
              "      <td>-0.009820</td>\n",
              "      <td>0.021993</td>\n",
              "      <td>-0.011890</td>\n",
              "      <td>0.223040</td>\n",
              "      <td>1.000000</td>\n",
              "      <td>-0.014088</td>\n",
              "    </tr>\n",
              "    <tr>\n",
              "      <th>Content Rating</th>\n",
              "      <td>0.019868</td>\n",
              "      <td>0.038950</td>\n",
              "      <td>-0.105896</td>\n",
              "      <td>0.070528</td>\n",
              "      <td>-0.013337</td>\n",
              "      <td>0.053359</td>\n",
              "      <td>-0.046892</td>\n",
              "      <td>-0.014088</td>\n",
              "      <td>1.000000</td>\n",
              "    </tr>\n",
              "  </tbody>\n",
              "</table>\n",
              "</div>"
            ],
            "text/plain": [
              "                  Rating       App  ...     Price  Content Rating\n",
              "Rating          1.000000  0.037271  ... -0.021903        0.019868\n",
              "App             0.037271  1.000000  ...  0.012664        0.038950\n",
              "Category       -0.034603  0.014334  ... -0.012913       -0.105896\n",
              "Reviews         0.068141  0.031587  ... -0.009820        0.070528\n",
              "Size           -0.030264 -0.024321  ...  0.021993       -0.013337\n",
              "Installs        0.051355  0.054028  ... -0.011890        0.053359\n",
              "Type            0.039581  0.008817  ...  0.223040       -0.046892\n",
              "Price          -0.021903  0.012664  ...  1.000000       -0.014088\n",
              "Content Rating  0.019868  0.038950  ... -0.014088        1.000000\n",
              "\n",
              "[9 rows x 9 columns]"
            ]
          },
          "metadata": {},
          "execution_count": 65
        }
      ]
    },
    {
      "cell_type": "code",
      "metadata": {
        "colab": {
          "base_uri": "https://localhost:8080/",
          "height": 0
        },
        "id": "bb37854b",
        "outputId": "123d04b7-e0f3-467a-a4d7-d49117f7fb52"
      },
      "source": [
        "sns.heatmap(data.corr(), cmap=\"seismic\", annot=True, vmin=-1, vmax=1);\n",
        "\n"
      ],
      "id": "bb37854b",
      "execution_count": 66,
      "outputs": [
        {
          "output_type": "display_data",
          "data": {
            "image/png": "[encoded data removed]",
            "text/plain": [
              "<Figure size 432x288 with 2 Axes>"
            ]
          },
          "metadata": {
            "needs_background": "light"
          }
        }
      ]
    },
    {
      "cell_type": "markdown",
      "metadata": {
        "id": "Yd4-0vQUyowN"
      },
      "source": [
        "#Questions\n",
        "- Histogram for Rating \n",
        "----- \n",
        "\n",
        "which application has the highest rating ?"
      ],
      "id": "Yd4-0vQUyowN"
    },
    {
      "cell_type": "code",
      "metadata": {
        "colab": {
          "base_uri": "https://localhost:8080/",
          "height": 299
        },
        "id": "9Zf6yj_c0z2W",
        "outputId": "64da45ce-f9e7-40f1-9fc4-bf672fa7ba4e"
      },
      "source": [
        "data['Rating'].value_counts().plot(kind='barh', title='the highest rating')\n",
        "      "
      ],
      "id": "9Zf6yj_c0z2W",
      "execution_count": 67,
      "outputs": [
        {
          "output_type": "execute_result",
          "data": {
            "text/plain": [
              "<matplotlib.axes._subplots.AxesSubplot at 0x7f29c08a3390>"
            ]
          },
          "metadata": {},
          "execution_count": 67
        },
        {
          "output_type": "display_data",
          "data": {
            "image/png": "[encoded data removed]",
            "text/plain": [
              "<Figure size 432x288 with 1 Axes>"
            ]
          },
          "metadata": {
            "needs_background": "light"
          }
        }
      ]
    },
    {
      "cell_type": "code",
      "metadata": {
        "colab": {
          "base_uri": "https://localhost:8080/",
          "height": 354
        },
        "id": "pIO-TTKNys0i",
        "outputId": "b4c4f83a-48b6-4935-cf86-47f38ed62367"
      },
      "source": [
        "sns.distplot(a=data['Rating'], kde=False)"
      ],
      "id": "pIO-TTKNys0i",
      "execution_count": 68,
      "outputs": [
        {
          "output_type": "stream",
          "name": "stderr",
          "text": [
            "/usr/local/lib/python3.7/dist-packages/seaborn/distributions.py:2619: FutureWarning: `distplot` is a deprecated function and will be removed in a future version. Please adapt your code to use either `displot` (a figure-level function with similar flexibility) or `histplot` (an axes-level function for histograms).\n",
            "  warnings.warn(msg, FutureWarning)\n"
          ]
        },
        {
          "output_type": "execute_result",
          "data": {
            "text/plain": [
              "<matplotlib.axes._subplots.AxesSubplot at 0x7f29c09c6890>"
            ]
          },
          "metadata": {},
          "execution_count": 68
        },
        {
          "output_type": "display_data",
          "data": {
            "image/png": "[encoded data removed]",
            "text/plain": [
              "<Figure size 432x288 with 1 Axes>"
            ]
          },
          "metadata": {
            "needs_background": "light"
          }
        }
      ]
    },
    {
      "cell_type": "markdown",
      "metadata": {
        "id": "OPiWoo3Ey02i"
      },
      "source": [
        "- Histogram for Size\n",
        "\n",
        "-------\n",
        "what is the most popular category"
      ],
      "id": "OPiWoo3Ey02i"
    },
    {
      "cell_type": "markdown",
      "metadata": {
        "id": "zSNVyfHxriOn"
      },
      "source": [
        "which app has the largest number of installs?\n"
      ],
      "id": "zSNVyfHxriOn"
    },
    {
      "cell_type": "code",
      "metadata": {
        "id": "FlUedjTyzRyI",
        "colab": {
          "base_uri": "https://localhost:8080/",
          "height": 612
        },
        "outputId": "3245f32a-ad1e-4ce2-c59d-cef5d83c1aef"
      },
      "source": [
        "print(data.hist(['Rating','Reviews','Size','Installs','Price'],figsize=(12,8),xlabelsize=12,ylabelsize=12))"
      ],
      "id": "FlUedjTyzRyI",
      "execution_count": 70,
      "outputs": [
        {
          "output_type": "stream",
          "name": "stdout",
          "text": [
            "[[<matplotlib.axes._subplots.AxesSubplot object at 0x7f29c06fc290>\n",
            "  <matplotlib.axes._subplots.AxesSubplot object at 0x7f29c069aa10>]\n",
            " [<matplotlib.axes._subplots.AxesSubplot object at 0x7f29c064bfd0>\n",
            "  <matplotlib.axes._subplots.AxesSubplot object at 0x7f29c060b650>]\n",
            " [<matplotlib.axes._subplots.AxesSubplot object at 0x7f29c0640c50>\n",
            "  <matplotlib.axes._subplots.AxesSubplot object at 0x7f29c0603290>]]\n"
          ]
        },
        {
          "output_type": "display_data",
          "data": {
            "image/png": "[encoded data removed]",
            "text/plain": [
              "<Figure size 864x576 with 6 Axes>"
            ]
          },
          "metadata": {
            "needs_background": "light"
          }
        }
      ]
    },
    {
      "cell_type": "code",
      "metadata": {
        "id": "mWwtFLyWzcU2",
        "colab": {
          "base_uri": "https://localhost:8080/",
          "height": 336
        },
        "outputId": "437edbe9-5f58-4805-ffb8-205bd7a99a36"
      },
      "source": [
        "data.Reviews=data.Reviews.apply(func=np.log1p)\n",
        "data.Installs=data.Installs.apply(func=np.log1p)\n",
        "\n",
        "data.hist(column=['Reviews','Installs'])"
      ],
      "id": "mWwtFLyWzcU2",
      "execution_count": 71,
      "outputs": [
        {
          "output_type": "execute_result",
          "data": {
            "text/plain": [
              "array([[<matplotlib.axes._subplots.AxesSubplot object at 0x7f29c06f8810>,\n",
              "        <matplotlib.axes._subplots.AxesSubplot object at 0x7f29c03933d0>]],\n",
              "      dtype=object)"
            ]
          },
          "metadata": {},
          "execution_count": 71
        },
        {
          "output_type": "display_data",
          "data": {
            "image/png": "[encoded data removed]",
            "text/plain": [
              "<Figure size 432x288 with 2 Axes>"
            ]
          },
          "metadata": {
            "needs_background": "light"
          }
        }
      ]
    },
    {
      "cell_type": "markdown",
      "metadata": {
        "id": "bbb9d47b"
      },
      "source": [
        "# Train and Test data"
      ],
      "id": "bbb9d47b"
    },
    {
      "cell_type": "code",
      "metadata": {
        "id": "_rG2t-RCW8Jh",
        "colab": {
          "base_uri": "https://localhost:8080/",
          "height": 424
        },
        "outputId": "c6f3885f-3675-4cab-8803-a7d73b4229da"
      },
      "source": [
        "data"
      ],
      "id": "_rG2t-RCW8Jh",
      "execution_count": 72,
      "outputs": [
        {
          "output_type": "execute_result",
          "data": {
            "text/html": [
              "<div>\n",
              "<style scoped>\n",
              "    .dataframe tbody tr th:only-of-type {\n",
              "        vertical-align: middle;\n",
              "    }\n",
              "\n",
              "    .dataframe tbody tr th {\n",
              "        vertical-align: top;\n",
              "    }\n",
              "\n",
              "    .dataframe thead th {\n",
              "        text-align: right;\n",
              "    }\n",
              "</style>\n",
              "<table border=\"1\" class=\"dataframe\">\n",
              "  <thead>\n",
              "    <tr style=\"text-align: right;\">\n",
              "      <th></th>\n",
              "      <th>Rating</th>\n",
              "      <th>App</th>\n",
              "      <th>Category</th>\n",
              "      <th>Reviews</th>\n",
              "      <th>Size</th>\n",
              "      <th>Installs</th>\n",
              "      <th>Type</th>\n",
              "      <th>Price</th>\n",
              "      <th>Content Rating</th>\n",
              "    </tr>\n",
              "  </thead>\n",
              "  <tbody>\n",
              "    <tr>\n",
              "      <th>0</th>\n",
              "      <td>4.1</td>\n",
              "      <td>6962</td>\n",
              "      <td>0</td>\n",
              "      <td>5.075174</td>\n",
              "      <td>19.0</td>\n",
              "      <td>9.210440</td>\n",
              "      <td>0</td>\n",
              "      <td>0.0</td>\n",
              "      <td>1</td>\n",
              "    </tr>\n",
              "    <tr>\n",
              "      <th>1</th>\n",
              "      <td>3.9</td>\n",
              "      <td>2632</td>\n",
              "      <td>0</td>\n",
              "      <td>6.875232</td>\n",
              "      <td>14.0</td>\n",
              "      <td>13.122365</td>\n",
              "      <td>0</td>\n",
              "      <td>0.0</td>\n",
              "      <td>1</td>\n",
              "    </tr>\n",
              "    <tr>\n",
              "      <th>2</th>\n",
              "      <td>4.7</td>\n",
              "      <td>8656</td>\n",
              "      <td>0</td>\n",
              "      <td>11.379520</td>\n",
              "      <td>8.7</td>\n",
              "      <td>15.424949</td>\n",
              "      <td>0</td>\n",
              "      <td>0.0</td>\n",
              "      <td>1</td>\n",
              "    </tr>\n",
              "    <tr>\n",
              "      <th>3</th>\n",
              "      <td>4.5</td>\n",
              "      <td>7827</td>\n",
              "      <td>0</td>\n",
              "      <td>12.281389</td>\n",
              "      <td>25.0</td>\n",
              "      <td>17.727534</td>\n",
              "      <td>0</td>\n",
              "      <td>0.0</td>\n",
              "      <td>4</td>\n",
              "    </tr>\n",
              "    <tr>\n",
              "      <th>4</th>\n",
              "      <td>4.3</td>\n",
              "      <td>7022</td>\n",
              "      <td>0</td>\n",
              "      <td>6.875232</td>\n",
              "      <td>2.8</td>\n",
              "      <td>11.512935</td>\n",
              "      <td>0</td>\n",
              "      <td>0.0</td>\n",
              "      <td>1</td>\n",
              "    </tr>\n",
              "    <tr>\n",
              "      <th>...</th>\n",
              "      <td>...</td>\n",
              "      <td>...</td>\n",
              "      <td>...</td>\n",
              "      <td>...</td>\n",
              "      <td>...</td>\n",
              "      <td>...</td>\n",
              "      <td>...</td>\n",
              "      <td>...</td>\n",
              "      <td>...</td>\n",
              "    </tr>\n",
              "    <tr>\n",
              "      <th>10833</th>\n",
              "      <td>4.0</td>\n",
              "      <td>4303</td>\n",
              "      <td>11</td>\n",
              "      <td>2.079442</td>\n",
              "      <td>2.6</td>\n",
              "      <td>6.216606</td>\n",
              "      <td>0</td>\n",
              "      <td>0.0</td>\n",
              "      <td>1</td>\n",
              "    </tr>\n",
              "    <tr>\n",
              "      <th>10835</th>\n",
              "      <td>4.5</td>\n",
              "      <td>8173</td>\n",
              "      <td>11</td>\n",
              "      <td>3.663562</td>\n",
              "      <td>53.0</td>\n",
              "      <td>8.517393</td>\n",
              "      <td>0</td>\n",
              "      <td>0.0</td>\n",
              "      <td>1</td>\n",
              "    </tr>\n",
              "    <tr>\n",
              "      <th>10836</th>\n",
              "      <td>5.0</td>\n",
              "      <td>4609</td>\n",
              "      <td>11</td>\n",
              "      <td>1.609438</td>\n",
              "      <td>3.6</td>\n",
              "      <td>4.615121</td>\n",
              "      <td>0</td>\n",
              "      <td>0.0</td>\n",
              "      <td>1</td>\n",
              "    </tr>\n",
              "    <tr>\n",
              "      <th>10838</th>\n",
              "      <td>4.5</td>\n",
              "      <td>8394</td>\n",
              "      <td>3</td>\n",
              "      <td>4.744932</td>\n",
              "      <td>0.0</td>\n",
              "      <td>6.908755</td>\n",
              "      <td>0</td>\n",
              "      <td>0.0</td>\n",
              "      <td>3</td>\n",
              "    </tr>\n",
              "    <tr>\n",
              "      <th>10839</th>\n",
              "      <td>4.5</td>\n",
              "      <td>9486</td>\n",
              "      <td>18</td>\n",
              "      <td>12.894981</td>\n",
              "      <td>19.0</td>\n",
              "      <td>16.118096</td>\n",
              "      <td>0</td>\n",
              "      <td>0.0</td>\n",
              "      <td>1</td>\n",
              "    </tr>\n",
              "  </tbody>\n",
              "</table>\n",
              "<p>9366 rows × 9 columns</p>\n",
              "</div>"
            ],
            "text/plain": [
              "       Rating   App  Category  ...  Type  Price  Content Rating\n",
              "0         4.1  6962         0  ...     0    0.0               1\n",
              "1         3.9  2632         0  ...     0    0.0               1\n",
              "2         4.7  8656         0  ...     0    0.0               1\n",
              "3         4.5  7827         0  ...     0    0.0               4\n",
              "4         4.3  7022         0  ...     0    0.0               1\n",
              "...       ...   ...       ...  ...   ...    ...             ...\n",
              "10833     4.0  4303        11  ...     0    0.0               1\n",
              "10835     4.5  8173        11  ...     0    0.0               1\n",
              "10836     5.0  4609        11  ...     0    0.0               1\n",
              "10838     4.5  8394         3  ...     0    0.0               3\n",
              "10839     4.5  9486        18  ...     0    0.0               1\n",
              "\n",
              "[9366 rows x 9 columns]"
            ]
          },
          "metadata": {},
          "execution_count": 72
        }
      ]
    },
    {
      "cell_type": "code",
      "metadata": {
        "id": "ccb781ef"
      },
      "source": [
        "from sklearn.model_selection import train_test_split \n",
        "from sklearn.linear_model import LinearRegression\n",
        "from sklearn import metrics\n",
        "from sklearn import preprocessing\n"
      ],
      "id": "ccb781ef",
      "execution_count": 73,
      "outputs": []
    },
    {
      "cell_type": "code",
      "metadata": {
        "colab": {
          "base_uri": "https://localhost:8080/",
          "height": 424
        },
        "id": "pX9ShqLGWmbA",
        "outputId": "46f33876-9d10-41e9-8955-315169866039"
      },
      "source": [
        "from sklearn.preprocessing import StandardScaler\n",
        "# scaler = preprocessing.StandardScaler().fit(X)\n",
        "# X_scaled = scaler.transform(X)\n",
        "# kddcup = pd.DataFrame(x_scaled)\n",
        "# kddcup.columns=X.columns\n",
        "\n",
        "scaler2 = preprocessing.MinMaxScaler().fit(data[data.columns])\n",
        "x_scaled = scaler2.transform(data[data.columns])\n",
        "df_sc = pd.DataFrame(x_scaled)\n",
        "df_sc.columns=data.columns\n",
        "\n",
        "X = df_sc[df_sc.columns]\n",
        "#y = df_sc['IC50\\n(µM)\\n']\n",
        "\n",
        "x_train, x_test, y_train, y_test = train_test_split(X, y, test_size=0.20, random_state=2)\n",
        "x_test"
      ],
      "id": "pX9ShqLGWmbA",
      "execution_count": 74,
      "outputs": [
        {
          "output_type": "execute_result",
          "data": {
            "text/html": [
              "<div>\n",
              "<style scoped>\n",
              "    .dataframe tbody tr th:only-of-type {\n",
              "        vertical-align: middle;\n",
              "    }\n",
              "\n",
              "    .dataframe tbody tr th {\n",
              "        vertical-align: top;\n",
              "    }\n",
              "\n",
              "    .dataframe thead th {\n",
              "        text-align: right;\n",
              "    }\n",
              "</style>\n",
              "<table border=\"1\" class=\"dataframe\">\n",
              "  <thead>\n",
              "    <tr style=\"text-align: right;\">\n",
              "      <th></th>\n",
              "      <th>Rating</th>\n",
              "      <th>App</th>\n",
              "      <th>Category</th>\n",
              "      <th>Reviews</th>\n",
              "      <th>Size</th>\n",
              "      <th>Installs</th>\n",
              "      <th>Type</th>\n",
              "      <th>Price</th>\n",
              "      <th>Content Rating</th>\n",
              "    </tr>\n",
              "  </thead>\n",
              "  <tbody>\n",
              "    <tr>\n",
              "      <th>7880</th>\n",
              "      <td>0.800</td>\n",
              "      <td>0.649684</td>\n",
              "      <td>0.71875</td>\n",
              "      <td>0.347472</td>\n",
              "      <td>0.310865</td>\n",
              "      <td>0.505571</td>\n",
              "      <td>0.0</td>\n",
              "      <td>0.0</td>\n",
              "      <td>0.2</td>\n",
              "    </tr>\n",
              "    <tr>\n",
              "      <th>2927</th>\n",
              "      <td>0.875</td>\n",
              "      <td>0.951952</td>\n",
              "      <td>0.87500</td>\n",
              "      <td>0.554448</td>\n",
              "      <td>0.019115</td>\n",
              "      <td>0.655132</td>\n",
              "      <td>0.0</td>\n",
              "      <td>0.0</td>\n",
              "      <td>0.2</td>\n",
              "    </tr>\n",
              "    <tr>\n",
              "      <th>7654</th>\n",
              "      <td>0.775</td>\n",
              "      <td>0.266542</td>\n",
              "      <td>0.78125</td>\n",
              "      <td>0.331908</td>\n",
              "      <td>0.003421</td>\n",
              "      <td>0.540176</td>\n",
              "      <td>0.0</td>\n",
              "      <td>0.0</td>\n",
              "      <td>0.2</td>\n",
              "    </tr>\n",
              "    <tr>\n",
              "      <th>184</th>\n",
              "      <td>0.825</td>\n",
              "      <td>0.693694</td>\n",
              "      <td>0.12500</td>\n",
              "      <td>0.750824</td>\n",
              "      <td>0.035211</td>\n",
              "      <td>0.885044</td>\n",
              "      <td>0.0</td>\n",
              "      <td>0.0</td>\n",
              "      <td>0.2</td>\n",
              "    </tr>\n",
              "    <tr>\n",
              "      <th>6899</th>\n",
              "      <td>1.000</td>\n",
              "      <td>0.223154</td>\n",
              "      <td>0.12500</td>\n",
              "      <td>0.023194</td>\n",
              "      <td>0.003421</td>\n",
              "      <td>0.054848</td>\n",
              "      <td>0.0</td>\n",
              "      <td>0.0</td>\n",
              "      <td>0.2</td>\n",
              "    </tr>\n",
              "    <tr>\n",
              "      <th>...</th>\n",
              "      <td>...</td>\n",
              "      <td>...</td>\n",
              "      <td>...</td>\n",
              "      <td>...</td>\n",
              "      <td>...</td>\n",
              "      <td>...</td>\n",
              "      <td>...</td>\n",
              "      <td>...</td>\n",
              "      <td>...</td>\n",
              "    </tr>\n",
              "    <tr>\n",
              "      <th>4257</th>\n",
              "      <td>0.750</td>\n",
              "      <td>0.940768</td>\n",
              "      <td>0.78125</td>\n",
              "      <td>0.338047</td>\n",
              "      <td>0.006841</td>\n",
              "      <td>0.505571</td>\n",
              "      <td>0.0</td>\n",
              "      <td>0.0</td>\n",
              "      <td>0.2</td>\n",
              "    </tr>\n",
              "    <tr>\n",
              "      <th>7242</th>\n",
              "      <td>0.775</td>\n",
              "      <td>0.991509</td>\n",
              "      <td>0.50000</td>\n",
              "      <td>0.373638</td>\n",
              "      <td>0.005433</td>\n",
              "      <td>0.505571</td>\n",
              "      <td>0.0</td>\n",
              "      <td>0.0</td>\n",
              "      <td>0.2</td>\n",
              "    </tr>\n",
              "    <tr>\n",
              "      <th>679</th>\n",
              "      <td>0.925</td>\n",
              "      <td>0.412965</td>\n",
              "      <td>0.25000</td>\n",
              "      <td>0.486584</td>\n",
              "      <td>0.000000</td>\n",
              "      <td>0.620526</td>\n",
              "      <td>0.0</td>\n",
              "      <td>0.0</td>\n",
              "      <td>0.2</td>\n",
              "    </tr>\n",
              "    <tr>\n",
              "      <th>1164</th>\n",
              "      <td>0.875</td>\n",
              "      <td>0.956301</td>\n",
              "      <td>0.40625</td>\n",
              "      <td>0.613772</td>\n",
              "      <td>0.027163</td>\n",
              "      <td>0.655132</td>\n",
              "      <td>0.0</td>\n",
              "      <td>0.0</td>\n",
              "      <td>0.2</td>\n",
              "    </tr>\n",
              "    <tr>\n",
              "      <th>8189</th>\n",
              "      <td>0.775</td>\n",
              "      <td>0.835974</td>\n",
              "      <td>0.68750</td>\n",
              "      <td>0.150966</td>\n",
              "      <td>0.004628</td>\n",
              "      <td>0.310313</td>\n",
              "      <td>0.0</td>\n",
              "      <td>0.0</td>\n",
              "      <td>0.2</td>\n",
              "    </tr>\n",
              "  </tbody>\n",
              "</table>\n",
              "<p>1874 rows × 9 columns</p>\n",
              "</div>"
            ],
            "text/plain": [
              "      Rating       App  Category  ...  Type  Price  Content Rating\n",
              "7880   0.800  0.649684   0.71875  ...   0.0    0.0             0.2\n",
              "2927   0.875  0.951952   0.87500  ...   0.0    0.0             0.2\n",
              "7654   0.775  0.266542   0.78125  ...   0.0    0.0             0.2\n",
              "184    0.825  0.693694   0.12500  ...   0.0    0.0             0.2\n",
              "6899   1.000  0.223154   0.12500  ...   0.0    0.0             0.2\n",
              "...      ...       ...       ...  ...   ...    ...             ...\n",
              "4257   0.750  0.940768   0.78125  ...   0.0    0.0             0.2\n",
              "7242   0.775  0.991509   0.50000  ...   0.0    0.0             0.2\n",
              "679    0.925  0.412965   0.25000  ...   0.0    0.0             0.2\n",
              "1164   0.875  0.956301   0.40625  ...   0.0    0.0             0.2\n",
              "8189   0.775  0.835974   0.68750  ...   0.0    0.0             0.2\n",
              "\n",
              "[1874 rows x 9 columns]"
            ]
          },
          "metadata": {},
          "execution_count": 74
        }
      ]
    },
    {
      "cell_type": "code",
      "metadata": {
        "id": "0bd56038"
      },
      "source": [
        "# Splitting data\n",
        "\n",
        "X_train, X_test, y_train, y_test = train_test_split(X, y, test_size=0.2, random_state=1)"
      ],
      "id": "0bd56038",
      "execution_count": 75,
      "outputs": []
    },
    {
      "cell_type": "code",
      "metadata": {
        "colab": {
          "base_uri": "https://localhost:8080/"
        },
        "id": "f3d6178c",
        "outputId": "978df373-46cd-404d-8b5d-9edb4a58bc03"
      },
      "source": [
        "# Training the algorithm\n",
        "\n",
        "reg_data = LinearRegression()  \n",
        "reg_data.fit(X_train, y_train) "
      ],
      "id": "f3d6178c",
      "execution_count": 76,
      "outputs": [
        {
          "output_type": "execute_result",
          "data": {
            "text/plain": [
              "LinearRegression()"
            ]
          },
          "metadata": {},
          "execution_count": 76
        }
      ]
    },
    {
      "cell_type": "code",
      "metadata": {
        "id": "26fbca47"
      },
      "source": [
        "# Making predictions\n",
        "\n",
        "y_pred = reg_data.predict(X_test)"
      ],
      "id": "26fbca47",
      "execution_count": 77,
      "outputs": []
    },
    {
      "cell_type": "code",
      "metadata": {
        "colab": {
          "base_uri": "https://localhost:8080/"
        },
        "id": "K_rJltz2JifG",
        "outputId": "f5ab00af-c429-486a-9d66-9b2039b064e6"
      },
      "source": [
        "from sklearn.metrics import r2_score,mean_squared_error\n",
        "print('R2_Score=',r2_score(y_test,y_pred))\n",
        "print('Root Mean Squared Error(RMSE)=',np.sqrt(mean_squared_error(y_test,y_pred)))\n",
        "\n",
        "# Mean Squared Error\n",
        "# metrics.mean_squared_error(y_test, y_pred)\n",
        "print('Mean Squared Error(MSE)=',(mean_squared_error(y_test,y_pred)))\n",
        "# Mean Absolute Error\n",
        "# metrics.mean_absolute_error(y_test, y_pred)\n",
        "print('Mean Absolute Error(MAE)=',(metrics.mean_absolute_error(y_test,y_pred)))"
      ],
      "id": "K_rJltz2JifG",
      "execution_count": 78,
      "outputs": [
        {
          "output_type": "stream",
          "name": "stdout",
          "text": [
            "R2_Score= 1.0\n",
            "Root Mean Squared Error(RMSE)= 6.460231697210757e-16\n",
            "Mean Squared Error(MSE)= 4.173459358164658e-31\n",
            "Mean Absolute Error(MAE)= 4.171926648564756e-16\n"
          ]
        }
      ]
    },
    {
      "cell_type": "code",
      "metadata": {
        "colab": {
          "base_uri": "https://localhost:8080/",
          "height": 424
        },
        "id": "f06e7ec3",
        "outputId": "e4099f24-0f1f-4c56-c9ce-c2f40be9ff61"
      },
      "source": [
        "# Creating a DF comparing actual values vs predicted values\n",
        "\n",
        "dfReg = pd.DataFrame({'Actual': y_test, 'Predicted': y_pred})\n",
        "dfReg"
      ],
      "id": "f06e7ec3",
      "execution_count": 79,
      "outputs": [
        {
          "output_type": "execute_result",
          "data": {
            "text/html": [
              "<div>\n",
              "<style scoped>\n",
              "    .dataframe tbody tr th:only-of-type {\n",
              "        vertical-align: middle;\n",
              "    }\n",
              "\n",
              "    .dataframe tbody tr th {\n",
              "        vertical-align: top;\n",
              "    }\n",
              "\n",
              "    .dataframe thead th {\n",
              "        text-align: right;\n",
              "    }\n",
              "</style>\n",
              "<table border=\"1\" class=\"dataframe\">\n",
              "  <thead>\n",
              "    <tr style=\"text-align: right;\">\n",
              "      <th></th>\n",
              "      <th>Actual</th>\n",
              "      <th>Predicted</th>\n",
              "    </tr>\n",
              "  </thead>\n",
              "  <tbody>\n",
              "    <tr>\n",
              "      <th>10586</th>\n",
              "      <td>4.4</td>\n",
              "      <td>4.4</td>\n",
              "    </tr>\n",
              "    <tr>\n",
              "      <th>4493</th>\n",
              "      <td>2.9</td>\n",
              "      <td>2.9</td>\n",
              "    </tr>\n",
              "    <tr>\n",
              "      <th>83</th>\n",
              "      <td>4.3</td>\n",
              "      <td>4.3</td>\n",
              "    </tr>\n",
              "    <tr>\n",
              "      <th>4951</th>\n",
              "      <td>4.3</td>\n",
              "      <td>4.3</td>\n",
              "    </tr>\n",
              "    <tr>\n",
              "      <th>3879</th>\n",
              "      <td>4.3</td>\n",
              "      <td>4.3</td>\n",
              "    </tr>\n",
              "    <tr>\n",
              "      <th>...</th>\n",
              "      <td>...</td>\n",
              "      <td>...</td>\n",
              "    </tr>\n",
              "    <tr>\n",
              "      <th>8421</th>\n",
              "      <td>4.3</td>\n",
              "      <td>4.3</td>\n",
              "    </tr>\n",
              "    <tr>\n",
              "      <th>1492</th>\n",
              "      <td>3.9</td>\n",
              "      <td>3.9</td>\n",
              "    </tr>\n",
              "    <tr>\n",
              "      <th>2163</th>\n",
              "      <td>4.4</td>\n",
              "      <td>4.4</td>\n",
              "    </tr>\n",
              "    <tr>\n",
              "      <th>7734</th>\n",
              "      <td>3.9</td>\n",
              "      <td>3.9</td>\n",
              "    </tr>\n",
              "    <tr>\n",
              "      <th>5889</th>\n",
              "      <td>4.3</td>\n",
              "      <td>4.3</td>\n",
              "    </tr>\n",
              "  </tbody>\n",
              "</table>\n",
              "<p>1874 rows × 2 columns</p>\n",
              "</div>"
            ],
            "text/plain": [
              "       Actual  Predicted\n",
              "10586     4.4        4.4\n",
              "4493      2.9        2.9\n",
              "83        4.3        4.3\n",
              "4951      4.3        4.3\n",
              "3879      4.3        4.3\n",
              "...       ...        ...\n",
              "8421      4.3        4.3\n",
              "1492      3.9        3.9\n",
              "2163      4.4        4.4\n",
              "7734      3.9        3.9\n",
              "5889      4.3        4.3\n",
              "\n",
              "[1874 rows x 2 columns]"
            ]
          },
          "metadata": {},
          "execution_count": 79
        }
      ]
    },
    {
      "cell_type": "code",
      "metadata": {
        "colab": {
          "base_uri": "https://localhost:8080/",
          "height": 522
        },
        "id": "vM_xqgqHJTOA",
        "outputId": "6720ec5f-1595-4df3-b1a6-51704809c132"
      },
      "source": [
        "fig=dfReg.head(25)\n",
        "fig.plot(kind='bar',figsize=(10,8))"
      ],
      "id": "vM_xqgqHJTOA",
      "execution_count": 80,
      "outputs": [
        {
          "output_type": "execute_result",
          "data": {
            "text/plain": [
              "<matplotlib.axes._subplots.AxesSubplot at 0x7f29be467690>"
            ]
          },
          "metadata": {},
          "execution_count": 80
        },
        {
          "output_type": "display_data",
          "data": {
            "image/png": "[encoded data removed]",
            "text/plain": [
              "<Figure size 720x576 with 1 Axes>"
            ]
          },
          "metadata": {
            "needs_background": "light"
          }
        }
      ]
    },
    {
      "cell_type": "code",
      "metadata": {
        "id": "a47c399e"
      },
      "source": [
        "import numpy as np\n",
        "import matplotlib.pyplot as plt\n",
        "from sklearn.datasets import load_digits\n",
        "from sklearn.model_selection import GridSearchCV\n",
        "from sklearn.pipeline import Pipeline\n",
        "from sklearn.linear_model import LinearRegression\n",
        "from sklearn.preprocessing import StandardScaler,MinMaxScaler\n",
        "from sklearn.metrics import mean_squared_error, r2_score\n",
        "from sklearn.metrics import mean_squared_error\n",
        "from sklearn.model_selection import GridSearchCV\n",
        "from sklearn.pipeline import Pipeline\n",
        "import numpy as np\n",
        "import matplotlib.pyplot as plt\n",
        "from itertools import cycle\n",
        "import pandas as pd\n",
        "from sklearn import preprocessing\n",
        "from sklearn.naive_bayes import GaussianNB\n",
        "from sklearn.ensemble import RandomForestClassifier\n",
        "from imblearn.over_sampling import SMOTE\n",
        "from sklearn.ensemble import RandomForestRegressor, GradientBoostingRegressor\n",
        "from sklearn.model_selection import train_test_split\n",
        "from sklearn.metrics import recall_score, accuracy_score, f1_score\n",
        "from sklearn import svm, datasets\n",
        "from sklearn.metrics import roc_curve, auc\n",
        "from sklearn.model_selection import train_test_split\n",
        "from sklearn.metrics import r2_score,mean_squared_error\n",
        "\n",
        "# initialize a score table to log the performance of various algorithms\n",
        "index = ['LinearRegression','Lasso','Ridge','RandomForestRegressor','GradientBoostingRegressor']\n",
        "score_table_1 = pd.DataFrame(index = index, columns= ['r2_train','r2_test','mse_train','mse_test',\n",
        "                                                      \"RMSE_train\", \"RMSE_test\", \"MAE_train\", \"MAE_test\"])"
      ],
      "id": "a47c399e",
      "execution_count": 81,
      "outputs": []
    },
    {
      "cell_type": "code",
      "metadata": {
        "id": "DHjsZk9NZuiZ"
      },
      "source": [
        "\n",
        "# define function for plotting the results\n",
        "def compute_plot_result(algo, y_train, pred_train, y_test, pred_test):\n",
        "    \"\"\"compute, log and plot the performance for both training and test sets\"\"\"\n",
        "    # compute the performance\n",
        "    try:\n",
        "        r2_train = r2_score(y_train.reshape(1, -1), pred_train)\n",
        "        r2_test = r2_score(y_test.reshape(1, -1), pred_test)\n",
        "        mse_train = mean_squared_error(y_train.reshape(1, -1), pred_train)\n",
        "        mse_test = mean_squared_error(y_test.reshape(1, -1), pred_test)\n",
        "        RMSE_train = np.sqrt(mean_squared_error(y_train.reshape(1, -1), pred_train))\n",
        "        RMSE_test = np.sqrt(mean_squared_error(y_test.reshape(1, -1), pred_test))\n",
        "        MAE_train = metrics.mean_absolute_error(y_train.reshape(1, -1), pred_train)\n",
        "        MAE_test = metrics.mean_absolute_error((y_test.reshape(1, -1), pred_test))\n",
        "    except:\n",
        "        r2_train = r2_score(y_train, pred_train)\n",
        "        r2_test = r2_score(y_test, pred_test)\n",
        "        mse_train = mean_squared_error(y_train, pred_train)\n",
        "        mse_test = mean_squared_error(y_test, pred_test)\n",
        "        RMSE_train = np.sqrt(mean_squared_error(y_train, pred_train))\n",
        "        RMSE_test = np.sqrt(mean_squared_error(y_test, pred_test))\n",
        "        MAE_train = metrics.mean_absolute_error(y_train, pred_train)\n",
        "        MAE_test = metrics.mean_absolute_error(y_test, pred_test)\n",
        "    # log the performance\n",
        "    score_table_1.loc[algo,:] = r2_train, r2_test, mse_train, mse_test, RMSE_train, RMSE_test, MAE_train, MAE_test\n",
        "\n",
        "# print('R2_Score=',r2_score(y_test,y_pred))\n",
        "# print('Root Mean Squared Error(RMSE)=',np.sqrt(mean_squared_error(y_test,y_pred)))\n",
        "\n",
        "# # Mean Squared Error\n",
        "# # metrics.mean_squared_error(y_test, y_pred)\n",
        "# print('Mean Squared Error(MSE)=',(mean_squared_error(y_test,y_pred)))\n",
        "# # Mean Absolute Error\n",
        "# # metrics.mean_absolute_error(y_test, y_pred)\n",
        "# print('Mean Absolute Error(MAE)=',(metrics.mean_absolute_error(y_test,y_pred)))\n",
        "    "
      ],
      "id": "DHjsZk9NZuiZ",
      "execution_count": 82,
      "outputs": []
    },
    {
      "cell_type": "markdown",
      "metadata": {
        "id": "-oTpbLxs26vf"
      },
      "source": [
        "**LinearRegression**"
      ],
      "id": "-oTpbLxs26vf"
    },
    {
      "cell_type": "code",
      "metadata": {
        "id": "ESxmjXpU15dd"
      },
      "source": [
        "from sklearn.linear_model import Ridge, Lasso\n",
        "\n",
        "lr = Pipeline([('scaler', MinMaxScaler()),('lr', LinearRegression())])\n",
        "lr.fit(X_train, y_train)\n",
        "pred_train = lr.predict(X_train)\n",
        "pred_test = lr.predict(X_test)\n",
        "\n",
        "compute_plot_result(\"LinearRegression\", y_train, pred_train, y_test, pred_test)\n",
        "\n",
        "##########Ridge#########################\n",
        "Ridge = Pipeline([('scaler', MinMaxScaler()),('Ridge', Ridge())])\n",
        "Ridge.fit(X_train, y_train)\n",
        "pred_train = Ridge.predict(X_train)\n",
        "pred_test = Ridge.predict(X_test)\n",
        "\n",
        "compute_plot_result(\"Ridge\", y_train, pred_train, y_test, pred_test)\n",
        "\n",
        "##########Lasso#########################\n",
        "Lasso = Pipeline([('scaler', MinMaxScaler()),('Lasso', Lasso())])\n",
        "Lasso.fit(X_train, y_train)\n",
        "pred_train = Lasso.predict(X_train)\n",
        "pred_test = Lasso.predict(X_test)\n",
        "\n",
        "compute_plot_result(\"Lasso\", y_train, pred_train, y_test, pred_test)"
      ],
      "id": "ESxmjXpU15dd",
      "execution_count": 83,
      "outputs": []
    },
    {
      "cell_type": "markdown",
      "metadata": {
        "id": "b9RBi-0s2TdY"
      },
      "source": [
        "**RandomForestRegressor**"
      ],
      "id": "b9RBi-0s2TdY"
    },
    {
      "cell_type": "code",
      "metadata": {
        "colab": {
          "base_uri": "https://localhost:8080/"
        },
        "id": "NR8ZXzxlcV1g",
        "outputId": "d560dd2d-e816-4dd1-e143-0895ad420b7d"
      },
      "source": [
        "# initialize a RandomForestRegressor model with default parameters\n",
        "rfr_2 = Pipeline([('scaler', MinMaxScaler()),('rfr',RandomForestRegressor())])\n",
        "\n",
        "# grid search of parameters n_estimators and max_features to improve RandomForestRegressor model\n",
        "parameters = {'rfr__n_estimators': np.arange(20,80,10), 'rfr__max_features':['auto','sqrt','log2']}\n",
        "rfr_2_cv = GridSearchCV(rfr_2, parameters, scoring='r2',cv=3)\n",
        "rfr_2_cv.fit(X_train, y_train)\n",
        "print('Best parameters:', rfr_2_cv.best_params_)\n",
        "print('Corresponding R2 score:', rfr_2_cv.best_score_)"
      ],
      "id": "NR8ZXzxlcV1g",
      "execution_count": 84,
      "outputs": [
        {
          "output_type": "stream",
          "name": "stdout",
          "text": [
            "Best parameters: {'rfr__max_features': 'auto', 'rfr__n_estimators': 50}\n",
            "Corresponding R2 score: 0.999980919317828\n"
          ]
        }
      ]
    },
    {
      "cell_type": "code",
      "metadata": {
        "colab": {
          "base_uri": "https://localhost:8080/",
          "height": 530
        },
        "id": "iq1YF9yJcYrn",
        "outputId": "74cad8ab-013b-4b92-d9f5-2b0974171073"
      },
      "source": [
        "rfr_ne = rfr_2_cv.best_params_['rfr__n_estimators']\n",
        "rfr_mf = rfr_2_cv.best_params_['rfr__max_features']\n",
        "\n",
        "# update model with best parameters\n",
        "rfr_2 = Pipeline([('scaler', MinMaxScaler()),('rfr', RandomForestRegressor(n_estimators=rfr_ne, max_features=rfr_mf, n_jobs=2))])\n",
        "rfr_2.fit(X_train, y_train)\n",
        "pred_train = rfr_2.predict(X_train)\n",
        "pred_test = rfr_2.predict(X_test)\n",
        "\n",
        "# print feature importance\n",
        "feature_rank = pd.DataFrame({'feature': X_train.columns, 'importance': rfr_2.named_steps.rfr.feature_importances_})\n",
        "print(feature_rank.sort_values(by='importance',ascending=False))\n",
        "importance2 = np.abs(rfr_2.named_steps.rfr.feature_importances_)\n",
        "feature_names = np.array(X_train.columns)\n",
        "plt.bar(height=importance2, x=feature_names)\n",
        "plt.title(\"Feature importances via coefficients\")\n",
        "plt.xticks(rotation=90)\n",
        "plt.show()\n",
        "compute_plot_result(\"RandomForestRegressor\",  y_train, pred_train, y_test, pred_test)"
      ],
      "id": "iq1YF9yJcYrn",
      "execution_count": 85,
      "outputs": [
        {
          "output_type": "stream",
          "name": "stdout",
          "text": [
            "          feature    importance\n",
            "0          Rating  9.999203e-01\n",
            "3         Reviews  6.622808e-05\n",
            "4            Size  5.974158e-06\n",
            "2        Category  4.452241e-06\n",
            "5        Installs  2.470538e-06\n",
            "1             App  6.237500e-07\n",
            "7           Price  2.243454e-14\n",
            "6            Type  1.483536e-14\n",
            "8  Content Rating  1.371902e-14\n"
          ]
        },
        {
          "output_type": "display_data",
          "data": {
            "image/png": "[encoded data removed]",
            "text/plain": [
              "<Figure size 432x288 with 1 Axes>"
            ]
          },
          "metadata": {
            "needs_background": "light"
          }
        }
      ]
    },
    {
      "cell_type": "code",
      "metadata": {
        "colab": {
          "base_uri": "https://localhost:8080/",
          "height": 424
        },
        "id": "qCcMunK-3wPi",
        "outputId": "b3da2463-c980-41cc-8211-8edcfdf9da60"
      },
      "source": [
        "# Creating a DF comparing actual values vs predicted values\n",
        "\n",
        "dfReg = pd.DataFrame({'Actual': y_test, 'Predicted': pred_test})\n",
        "dfReg"
      ],
      "id": "qCcMunK-3wPi",
      "execution_count": 86,
      "outputs": [
        {
          "output_type": "execute_result",
          "data": {
            "text/html": [
              "<div>\n",
              "<style scoped>\n",
              "    .dataframe tbody tr th:only-of-type {\n",
              "        vertical-align: middle;\n",
              "    }\n",
              "\n",
              "    .dataframe tbody tr th {\n",
              "        vertical-align: top;\n",
              "    }\n",
              "\n",
              "    .dataframe thead th {\n",
              "        text-align: right;\n",
              "    }\n",
              "</style>\n",
              "<table border=\"1\" class=\"dataframe\">\n",
              "  <thead>\n",
              "    <tr style=\"text-align: right;\">\n",
              "      <th></th>\n",
              "      <th>Actual</th>\n",
              "      <th>Predicted</th>\n",
              "    </tr>\n",
              "  </thead>\n",
              "  <tbody>\n",
              "    <tr>\n",
              "      <th>10586</th>\n",
              "      <td>4.4</td>\n",
              "      <td>4.4</td>\n",
              "    </tr>\n",
              "    <tr>\n",
              "      <th>4493</th>\n",
              "      <td>2.9</td>\n",
              "      <td>2.9</td>\n",
              "    </tr>\n",
              "    <tr>\n",
              "      <th>83</th>\n",
              "      <td>4.3</td>\n",
              "      <td>4.3</td>\n",
              "    </tr>\n",
              "    <tr>\n",
              "      <th>4951</th>\n",
              "      <td>4.3</td>\n",
              "      <td>4.3</td>\n",
              "    </tr>\n",
              "    <tr>\n",
              "      <th>3879</th>\n",
              "      <td>4.3</td>\n",
              "      <td>4.3</td>\n",
              "    </tr>\n",
              "    <tr>\n",
              "      <th>...</th>\n",
              "      <td>...</td>\n",
              "      <td>...</td>\n",
              "    </tr>\n",
              "    <tr>\n",
              "      <th>8421</th>\n",
              "      <td>4.3</td>\n",
              "      <td>4.3</td>\n",
              "    </tr>\n",
              "    <tr>\n",
              "      <th>1492</th>\n",
              "      <td>3.9</td>\n",
              "      <td>3.9</td>\n",
              "    </tr>\n",
              "    <tr>\n",
              "      <th>2163</th>\n",
              "      <td>4.4</td>\n",
              "      <td>4.4</td>\n",
              "    </tr>\n",
              "    <tr>\n",
              "      <th>7734</th>\n",
              "      <td>3.9</td>\n",
              "      <td>3.9</td>\n",
              "    </tr>\n",
              "    <tr>\n",
              "      <th>5889</th>\n",
              "      <td>4.3</td>\n",
              "      <td>4.3</td>\n",
              "    </tr>\n",
              "  </tbody>\n",
              "</table>\n",
              "<p>1874 rows × 2 columns</p>\n",
              "</div>"
            ],
            "text/plain": [
              "       Actual  Predicted\n",
              "10586     4.4        4.4\n",
              "4493      2.9        2.9\n",
              "83        4.3        4.3\n",
              "4951      4.3        4.3\n",
              "3879      4.3        4.3\n",
              "...       ...        ...\n",
              "8421      4.3        4.3\n",
              "1492      3.9        3.9\n",
              "2163      4.4        4.4\n",
              "7734      3.9        3.9\n",
              "5889      4.3        4.3\n",
              "\n",
              "[1874 rows x 2 columns]"
            ]
          },
          "metadata": {},
          "execution_count": 86
        }
      ]
    },
    {
      "cell_type": "code",
      "metadata": {
        "colab": {
          "base_uri": "https://localhost:8080/",
          "height": 522
        },
        "id": "1YM9cwSx35N-",
        "outputId": "7c1e396d-c7cf-4677-bcd6-1c6e287eec94"
      },
      "source": [
        "fig=dfReg.head(25)\n",
        "fig.plot(kind='bar',figsize=(10,8))"
      ],
      "id": "1YM9cwSx35N-",
      "execution_count": 87,
      "outputs": [
        {
          "output_type": "execute_result",
          "data": {
            "text/plain": [
              "<matplotlib.axes._subplots.AxesSubplot at 0x7f29c06605d0>"
            ]
          },
          "metadata": {},
          "execution_count": 87
        },
        {
          "output_type": "display_data",
          "data": {
            "image/png": "[encoded data removed]",
            "text/plain": [
              "<Figure size 720x576 with 1 Axes>"
            ]
          },
          "metadata": {
            "needs_background": "light"
          }
        }
      ]
    },
    {
      "cell_type": "markdown",
      "metadata": {
        "id": "_DZNQ6dWcd5W"
      },
      "source": [
        "**GradientBoostingRegressor**"
      ],
      "id": "_DZNQ6dWcd5W"
    },
    {
      "cell_type": "code",
      "metadata": {
        "id": "xJklpJWcceMp",
        "colab": {
          "base_uri": "https://localhost:8080/"
        },
        "outputId": "ae4c77f0-54f9-46ea-aa00-90bf19c04613"
      },
      "source": [
        "# initialize a GradientBoostREgressor model with default parameters\n",
        "gbr_2 = Pipeline([('scaler', MinMaxScaler()),('gbr',GradientBoostingRegressor())])\n",
        "\n",
        "# grid search of parameter n_estimators, max_features, max_depth, learning_rate to improve GradientBoostingRegressor model\n",
        "parameters = {'gbr__n_estimators': np.arange(50,500,50), 'gbr__learning_rate': [0.01, 0.05, 0.1, 0.15],'gbr__max_features':['auto','sqrt','log2'],'gbr__max_depth': np.arange(2,7,2)}\n",
        "gbr_2_cv = GridSearchCV(gbr_2, parameters, scoring='r2',cv=3)\n",
        "gbr_2_cv.fit(X_train, y_train)\n",
        "print('Best parameters:', gbr_2_cv.best_params_)\n",
        "print('Corresponding R2 score:', gbr_2_cv.best_score_)"
      ],
      "id": "xJklpJWcceMp",
      "execution_count": 88,
      "outputs": [
        {
          "output_type": "stream",
          "name": "stdout",
          "text": [
            "Best parameters: {'gbr__learning_rate': 0.15, 'gbr__max_depth': 4, 'gbr__max_features': 'auto', 'gbr__n_estimators': 50}\n",
            "Corresponding R2 score: 0.9999816120009403\n"
          ]
        }
      ]
    },
    {
      "cell_type": "code",
      "metadata": {
        "id": "sR2mqpNMcj9X"
      },
      "source": [
        "lr= gbr_2_cv.best_params_['gbr__learning_rate']\n",
        "md= gbr_2_cv.best_params_['gbr__max_depth']\n",
        "mf= gbr_2_cv.best_params_['gbr__max_features']\n",
        "ns= gbr_2_cv.best_params_['gbr__n_estimators']"
      ],
      "id": "sR2mqpNMcj9X",
      "execution_count": 89,
      "outputs": []
    },
    {
      "cell_type": "code",
      "metadata": {
        "id": "4DoRz6lBcm2l",
        "colab": {
          "base_uri": "https://localhost:8080/",
          "height": 530
        },
        "outputId": "8e43c675-31cc-434b-ebfb-23a9c57ae184"
      },
      "source": [
        "# update model with best parameters\n",
        "gbr_2 = Pipeline([('scaler', MinMaxScaler()),\n",
        "                  ('gbr', GradientBoostingRegressor(n_estimators=ns, learning_rate=lr, max_features=mf, max_depth=md))])\n",
        "gbr_2.fit(X_train, y_train)\n",
        "pred_train = gbr_2.predict(X_train)\n",
        "pred_test = gbr_2.predict(X_test)\n",
        "\n",
        "# print feature importance\n",
        "feature_rank = pd.DataFrame({'feature': X_train.columns, 'importance': gbr_2.named_steps.gbr.feature_importances_})\n",
        "print(feature_rank.sort_values(by='importance',ascending=False))\n",
        "importance = np.abs(gbr_2.named_steps.gbr.feature_importances_)\n",
        "feature_names = np.array(X_train.columns)\n",
        "plt.bar(height=importance, x=feature_names)\n",
        "plt.title(\"Feature importances via coefficients\")\n",
        "plt.xticks(rotation=90)\n",
        "plt.show()\n",
        "compute_plot_result(\"GradientBoostingRegressor\",  y_train, pred_train, y_test, pred_test)"
      ],
      "id": "4DoRz6lBcm2l",
      "execution_count": 90,
      "outputs": [
        {
          "output_type": "stream",
          "name": "stdout",
          "text": [
            "          feature    importance\n",
            "0          Rating  9.999995e-01\n",
            "3         Reviews  4.585984e-07\n",
            "4            Size  7.730809e-09\n",
            "2        Category  5.391374e-09\n",
            "1             App  1.066925e-10\n",
            "5        Installs  0.000000e+00\n",
            "6            Type  0.000000e+00\n",
            "7           Price  0.000000e+00\n",
            "8  Content Rating  0.000000e+00\n"
          ]
        },
        {
          "output_type": "display_data",
          "data": {
            "image/png": "[encoded data removed]",
            "text/plain": [
              "<Figure size 432x288 with 1 Axes>"
            ]
          },
          "metadata": {
            "needs_background": "light"
          }
        }
      ]
    },
    {
      "cell_type": "markdown",
      "metadata": {
        "id": "qRChtwQ6cn-s"
      },
      "source": [
        "#Results"
      ],
      "id": "qRChtwQ6cn-s"
    },
    {
      "cell_type": "code",
      "metadata": {
        "id": "g2EayZ8rgig9",
        "colab": {
          "base_uri": "https://localhost:8080/",
          "height": 276
        },
        "outputId": "05a26123-ac87-453f-f1be-939b22ce009d"
      },
      "source": [
        "score_table_1"
      ],
      "id": "g2EayZ8rgig9",
      "execution_count": 81,
      "outputs": [
        {
          "output_type": "execute_result",
          "data": {
            "text/html": [
              "<div>\n",
              "<style scoped>\n",
              "    .dataframe tbody tr th:only-of-type {\n",
              "        vertical-align: middle;\n",
              "    }\n",
              "\n",
              "    .dataframe tbody tr th {\n",
              "        vertical-align: top;\n",
              "    }\n",
              "\n",
              "    .dataframe thead th {\n",
              "        text-align: right;\n",
              "    }\n",
              "</style>\n",
              "<table border=\"1\" class=\"dataframe\">\n",
              "  <thead>\n",
              "    <tr style=\"text-align: right;\">\n",
              "      <th></th>\n",
              "      <th>r2_train</th>\n",
              "      <th>r2_test</th>\n",
              "      <th>mse_train</th>\n",
              "      <th>mse_test</th>\n",
              "      <th>RMSE_train</th>\n",
              "      <th>RMSE_test</th>\n",
              "      <th>MAE_train</th>\n",
              "      <th>MAE_test</th>\n",
              "    </tr>\n",
              "  </thead>\n",
              "  <tbody>\n",
              "    <tr>\n",
              "      <th>LinearRegression</th>\n",
              "      <td>1</td>\n",
              "      <td>1</td>\n",
              "      <td>4.07836e-31</td>\n",
              "      <td>4.26791e-31</td>\n",
              "      <td>6.3862e-16</td>\n",
              "      <td>6.53292e-16</td>\n",
              "      <td>3.7127e-16</td>\n",
              "      <td>3.92429e-16</td>\n",
              "    </tr>\n",
              "    <tr>\n",
              "      <th>Lasso</th>\n",
              "      <td>0</td>\n",
              "      <td>-0.000121659</td>\n",
              "      <td>0.263293</td>\n",
              "      <td>0.273939</td>\n",
              "      <td>0.513121</td>\n",
              "      <td>0.523392</td>\n",
              "      <td>0.357879</td>\n",
              "      <td>0.371367</td>\n",
              "    </tr>\n",
              "    <tr>\n",
              "      <th>Ridge</th>\n",
              "      <td>0.999927</td>\n",
              "      <td>0.999927</td>\n",
              "      <td>1.9256e-05</td>\n",
              "      <td>1.99312e-05</td>\n",
              "      <td>0.00438817</td>\n",
              "      <td>0.00446444</td>\n",
              "      <td>0.00298638</td>\n",
              "      <td>0.00309445</td>\n",
              "    </tr>\n",
              "    <tr>\n",
              "      <th>RandomForestRegressor</th>\n",
              "      <td>0.999994</td>\n",
              "      <td>0.999999</td>\n",
              "      <td>1.54939e-06</td>\n",
              "      <td>2.94557e-07</td>\n",
              "      <td>0.00124474</td>\n",
              "      <td>0.000542731</td>\n",
              "      <td>4.69834e-05</td>\n",
              "      <td>4.0555e-05</td>\n",
              "    </tr>\n",
              "    <tr>\n",
              "      <th>GradientBoostingRegressor</th>\n",
              "      <td>1</td>\n",
              "      <td>1</td>\n",
              "      <td>3.75394e-08</td>\n",
              "      <td>4.78309e-08</td>\n",
              "      <td>0.000193751</td>\n",
              "      <td>0.000218703</td>\n",
              "      <td>0.000113254</td>\n",
              "      <td>0.000119179</td>\n",
              "    </tr>\n",
              "  </tbody>\n",
              "</table>\n",
              "</div>"
            ],
            "text/plain": [
              "                           r2_train      r2_test  ...    MAE_train     MAE_test\n",
              "LinearRegression                  1            1  ...   3.7127e-16  3.92429e-16\n",
              "Lasso                             0 -0.000121659  ...     0.357879     0.371367\n",
              "Ridge                      0.999927     0.999927  ...   0.00298638   0.00309445\n",
              "RandomForestRegressor      0.999994     0.999999  ...  4.69834e-05   4.0555e-05\n",
              "GradientBoostingRegressor         1            1  ...  0.000113254  0.000119179\n",
              "\n",
              "[5 rows x 8 columns]"
            ]
          },
          "metadata": {},
          "execution_count": 81
        }
      ]
    },
    {
      "cell_type": "code",
      "metadata": {
        "id": "AN6jW86l4xbc",
        "colab": {
          "base_uri": "https://localhost:8080/",
          "height": 628
        },
        "outputId": "673fe0a5-cefb-42e0-f856-2513abeb754e"
      },
      "source": [
        "score_table_1[\"mse_test\"].plot(kind='bar',figsize=(10,8))"
      ],
      "id": "AN6jW86l4xbc",
      "execution_count": 82,
      "outputs": [
        {
          "output_type": "execute_result",
          "data": {
            "text/plain": [
              "<matplotlib.axes._subplots.AxesSubplot at 0x7fbbdfbc4810>"
            ]
          },
          "metadata": {},
          "execution_count": 82
        },
        {
          "output_type": "display_data",
          "data": {
            "image/png": "[encoded data removed]",
            "text/plain": [
              "<Figure size 720x576 with 1 Axes>"
            ]
          },
          "metadata": {
            "needs_background": "light"
          }
        }
      ]
    },
    {
      "cell_type": "code",
      "metadata": {
        "id": "nUZxFUiS4o4a",
        "colab": {
          "base_uri": "https://localhost:8080/",
          "height": 628
        },
        "outputId": "07159f62-ba36-44c1-e48e-8194024d9e28"
      },
      "source": [
        "score_table_1[\"RMSE_test\"].plot(kind='bar',figsize=(10,8))"
      ],
      "id": "nUZxFUiS4o4a",
      "execution_count": 83,
      "outputs": [
        {
          "output_type": "execute_result",
          "data": {
            "text/plain": [
              "<matplotlib.axes._subplots.AxesSubplot at 0x7fbbdfbd6990>"
            ]
          },
          "metadata": {},
          "execution_count": 83
        },
        {
          "output_type": "display_data",
          "data": {
            "image/png": "[encoded data removed]",
            "text/plain": [
              "<Figure size 720x576 with 1 Axes>"
            ]
          },
          "metadata": {
            "needs_background": "light"
          }
        }
      ]
    },
    {
      "cell_type": "code",
      "metadata": {
        "id": "yTIH2viB8tHX",
        "colab": {
          "base_uri": "https://localhost:8080/",
          "height": 628
        },
        "outputId": "4e0d67fb-c63c-4cca-866f-e77b3c593762"
      },
      "source": [
        "score_table_1[\"r2_train\"].plot(kind='bar',figsize=(10,8))"
      ],
      "id": "yTIH2viB8tHX",
      "execution_count": 84,
      "outputs": [
        {
          "output_type": "execute_result",
          "data": {
            "text/plain": [
              "<matplotlib.axes._subplots.AxesSubplot at 0x7fbbdfb5b190>"
            ]
          },
          "metadata": {},
          "execution_count": 84
        },
        {
          "output_type": "display_data",
          "data": {
            "image/png": "[encoded data removed]",
            "text/plain": [
              "<Figure size 720x576 with 1 Axes>"
            ]
          },
          "metadata": {
            "needs_background": "light"
          }
        }
      ]
    }
  ]
}